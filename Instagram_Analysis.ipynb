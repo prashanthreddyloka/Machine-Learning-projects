{
 "cells": [
  {
   "cell_type": "markdown",
   "metadata": {
    "id": "uns3WhxF13Hx"
   },
   "source": [
    "### Final Test: (15 points)"
   ]
  },
  {
   "cell_type": "code",
   "execution_count": null,
   "metadata": {
    "id": "1_OlUVXP0vmI"
   },
   "outputs": [],
   "source": []
  },
  {
   "cell_type": "markdown",
   "metadata": {
    "id": "QY2xCOTe13Hz"
   },
   "source": [
    "### Predicting the number of likes on Instagram using Regression Techniques\n",
    "\n",
    "One billion people use Instagram every month, which makes it one of the most popular social networks worldwide.\n",
    "Currently, there is an enormous scope market with the potential to be optimized to increase Instagram posts popularity and engagement.\n",
    "\n",
    "Ref: https://upcommons.upc.edu/bitstream/handle/2117/339937/152579.pdf?sequence=1&isAllowed=y\n"
   ]
  },
  {
   "cell_type": "markdown",
   "metadata": {
    "id": "UAOJcA4-13Hz"
   },
   "source": [
    "---\n",
    "### The Instagram Users Datetime Posts Dataset   \n",
    "We explore the Instagram Users Datetime Posts dataset, which contains info of 1089 users' posts.\n",
    "\n",
    "The dataset can estimate the number of likes/likes scores given a post based on different features such as the time and date of the post, type of the post, number of tags, numbers of comments, or how many days the post has been posted.\n",
    "\n",
    "--\n",
    "### Objective:\n",
    "#### Estimate the number of likes based on number of tags, numbers of comments, or days passed from post.\n",
    "---\n",
    "\n",
    "\n",
    "### Dataset:\n",
    "you can find the dataset on Canvas under Dataset section: Instagram_Data"
   ]
  },
  {
   "cell_type": "markdown",
   "metadata": {
    "id": "QGRL6Z8j13H0"
   },
   "source": [
    "### Steps to do:"
   ]
  },
  {
   "cell_type": "markdown",
   "metadata": {
    "id": "Kyt7LP1113H1"
   },
   "source": [
    "    1- import libraries and initialize the plotting environment using matplotlib and/or seaborn  (1 point)"
   ]
  },
  {
   "cell_type": "code",
   "execution_count": 8,
   "metadata": {
    "id": "T3dOOhdO13H1"
   },
   "outputs": [],
   "source": [
    "# write you code here\n",
    "import pandas as pd\n",
    "import seaborn as sns\n",
    "import matplotlib.pyplot as plt\n",
    "import numpy as np\n",
    "from sklearn.preprocessing import LabelEncoder\n",
    "import warnings\n",
    "warnings.filterwarnings('ignore')"
   ]
  },
  {
   "cell_type": "markdown",
   "metadata": {
    "id": "_ery0xiv13H2"
   },
   "source": [
    "    2- Loading data into Panda datafram, name it insta_df (1 point)\n",
    "        * load only the first 2000 rows using the \"nrows\" parameter\n",
    "\n",
    "#### Note: you should read just the 2000 examples of the data.\n",
    "\n",
    "Otherwise, your execution time for each command will be long since the data has 178922 samples.\n",
    "\n",
    "    3- reset index (1 point)"
   ]
  },
  {
   "cell_type": "code",
   "execution_count": 10,
   "metadata": {
    "id": "Y2Fxb6xZ13H3"
   },
   "outputs": [
    {
     "data": {
      "text/html": [
       "<div>\n",
       "<style scoped>\n",
       "    .dataframe tbody tr th:only-of-type {\n",
       "        vertical-align: middle;\n",
       "    }\n",
       "\n",
       "    .dataframe tbody tr th {\n",
       "        vertical-align: top;\n",
       "    }\n",
       "\n",
       "    .dataframe thead th {\n",
       "        text-align: right;\n",
       "    }\n",
       "</style>\n",
       "<table border=\"1\" class=\"dataframe\">\n",
       "  <thead>\n",
       "    <tr style=\"text-align: right;\">\n",
       "      <th></th>\n",
       "      <th>User uuid</th>\n",
       "      <th>Likes</th>\n",
       "      <th>Days passed from post</th>\n",
       "      <th>Likes Score</th>\n",
       "      <th>Type</th>\n",
       "      <th>Numer of Tags</th>\n",
       "      <th>Numer of Comments</th>\n",
       "      <th>Date Posted</th>\n",
       "      <th>Year</th>\n",
       "      <th>Month</th>\n",
       "      <th>Day</th>\n",
       "      <th>Hour</th>\n",
       "      <th>Minute</th>\n",
       "    </tr>\n",
       "  </thead>\n",
       "  <tbody>\n",
       "    <tr>\n",
       "      <th>0</th>\n",
       "      <td>1</td>\n",
       "      <td>506</td>\n",
       "      <td>657</td>\n",
       "      <td>0.74</td>\n",
       "      <td>Image</td>\n",
       "      <td>3</td>\n",
       "      <td>11</td>\n",
       "      <td>2019-05-12 21:18:39</td>\n",
       "      <td>2019</td>\n",
       "      <td>5</td>\n",
       "      <td>12</td>\n",
       "      <td>21</td>\n",
       "      <td>18</td>\n",
       "    </tr>\n",
       "    <tr>\n",
       "      <th>1</th>\n",
       "      <td>1</td>\n",
       "      <td>385</td>\n",
       "      <td>657</td>\n",
       "      <td>0.57</td>\n",
       "      <td>Image</td>\n",
       "      <td>0</td>\n",
       "      <td>1</td>\n",
       "      <td>2019-05-12 14:25:55</td>\n",
       "      <td>2019</td>\n",
       "      <td>5</td>\n",
       "      <td>12</td>\n",
       "      <td>14</td>\n",
       "      <td>25</td>\n",
       "    </tr>\n",
       "    <tr>\n",
       "      <th>2</th>\n",
       "      <td>1</td>\n",
       "      <td>373</td>\n",
       "      <td>666</td>\n",
       "      <td>0.55</td>\n",
       "      <td>Images</td>\n",
       "      <td>4</td>\n",
       "      <td>15</td>\n",
       "      <td>2019-05-03 15:18:37</td>\n",
       "      <td>2019</td>\n",
       "      <td>5</td>\n",
       "      <td>3</td>\n",
       "      <td>15</td>\n",
       "      <td>18</td>\n",
       "    </tr>\n",
       "    <tr>\n",
       "      <th>3</th>\n",
       "      <td>1</td>\n",
       "      <td>312</td>\n",
       "      <td>667</td>\n",
       "      <td>0.46</td>\n",
       "      <td>Images</td>\n",
       "      <td>4</td>\n",
       "      <td>1</td>\n",
       "      <td>2019-05-02 16:40:38</td>\n",
       "      <td>2019</td>\n",
       "      <td>5</td>\n",
       "      <td>2</td>\n",
       "      <td>16</td>\n",
       "      <td>40</td>\n",
       "    </tr>\n",
       "    <tr>\n",
       "      <th>4</th>\n",
       "      <td>1</td>\n",
       "      <td>513</td>\n",
       "      <td>674</td>\n",
       "      <td>0.75</td>\n",
       "      <td>Images</td>\n",
       "      <td>5</td>\n",
       "      <td>0</td>\n",
       "      <td>2019-04-25 16:51:58</td>\n",
       "      <td>2019</td>\n",
       "      <td>4</td>\n",
       "      <td>25</td>\n",
       "      <td>16</td>\n",
       "      <td>51</td>\n",
       "    </tr>\n",
       "    <tr>\n",
       "      <th>...</th>\n",
       "      <td>...</td>\n",
       "      <td>...</td>\n",
       "      <td>...</td>\n",
       "      <td>...</td>\n",
       "      <td>...</td>\n",
       "      <td>...</td>\n",
       "      <td>...</td>\n",
       "      <td>...</td>\n",
       "      <td>...</td>\n",
       "      <td>...</td>\n",
       "      <td>...</td>\n",
       "      <td>...</td>\n",
       "      <td>...</td>\n",
       "    </tr>\n",
       "    <tr>\n",
       "      <th>1995</th>\n",
       "      <td>17</td>\n",
       "      <td>58</td>\n",
       "      <td>186</td>\n",
       "      <td>0.04</td>\n",
       "      <td>Image</td>\n",
       "      <td>0</td>\n",
       "      <td>84</td>\n",
       "      <td>2020-08-25 18:09:56</td>\n",
       "      <td>2020</td>\n",
       "      <td>8</td>\n",
       "      <td>25</td>\n",
       "      <td>18</td>\n",
       "      <td>9</td>\n",
       "    </tr>\n",
       "    <tr>\n",
       "      <th>1996</th>\n",
       "      <td>17</td>\n",
       "      <td>81</td>\n",
       "      <td>193</td>\n",
       "      <td>0.06</td>\n",
       "      <td>Video</td>\n",
       "      <td>4</td>\n",
       "      <td>5</td>\n",
       "      <td>2020-08-18 02:39:23</td>\n",
       "      <td>2020</td>\n",
       "      <td>8</td>\n",
       "      <td>18</td>\n",
       "      <td>2</td>\n",
       "      <td>39</td>\n",
       "    </tr>\n",
       "    <tr>\n",
       "      <th>1997</th>\n",
       "      <td>17</td>\n",
       "      <td>251</td>\n",
       "      <td>194</td>\n",
       "      <td>0.19</td>\n",
       "      <td>Image</td>\n",
       "      <td>4</td>\n",
       "      <td>13</td>\n",
       "      <td>2020-08-17 01:17:17</td>\n",
       "      <td>2020</td>\n",
       "      <td>8</td>\n",
       "      <td>17</td>\n",
       "      <td>1</td>\n",
       "      <td>17</td>\n",
       "    </tr>\n",
       "    <tr>\n",
       "      <th>1998</th>\n",
       "      <td>17</td>\n",
       "      <td>962</td>\n",
       "      <td>197</td>\n",
       "      <td>0.72</td>\n",
       "      <td>Images</td>\n",
       "      <td>0</td>\n",
       "      <td>38</td>\n",
       "      <td>2020-08-14 18:48:13</td>\n",
       "      <td>2020</td>\n",
       "      <td>8</td>\n",
       "      <td>14</td>\n",
       "      <td>18</td>\n",
       "      <td>48</td>\n",
       "    </tr>\n",
       "    <tr>\n",
       "      <th>1999</th>\n",
       "      <td>17</td>\n",
       "      <td>179</td>\n",
       "      <td>198</td>\n",
       "      <td>0.13</td>\n",
       "      <td>Images</td>\n",
       "      <td>5</td>\n",
       "      <td>5</td>\n",
       "      <td>2020-08-13 20:05:24</td>\n",
       "      <td>2020</td>\n",
       "      <td>8</td>\n",
       "      <td>13</td>\n",
       "      <td>20</td>\n",
       "      <td>5</td>\n",
       "    </tr>\n",
       "  </tbody>\n",
       "</table>\n",
       "<p>2000 rows × 13 columns</p>\n",
       "</div>"
      ],
      "text/plain": [
       "      User uuid  Likes  Days passed from post  Likes Score    Type  \\\n",
       "0             1    506                    657         0.74   Image   \n",
       "1             1    385                    657         0.57   Image   \n",
       "2             1    373                    666         0.55  Images   \n",
       "3             1    312                    667         0.46  Images   \n",
       "4             1    513                    674         0.75  Images   \n",
       "...         ...    ...                    ...          ...     ...   \n",
       "1995         17     58                    186         0.04   Image   \n",
       "1996         17     81                    193         0.06   Video   \n",
       "1997         17    251                    194         0.19   Image   \n",
       "1998         17    962                    197         0.72  Images   \n",
       "1999         17    179                    198         0.13  Images   \n",
       "\n",
       "      Numer of Tags  Numer of Comments          Date Posted  Year  Month  Day  \\\n",
       "0                 3                 11  2019-05-12 21:18:39  2019      5   12   \n",
       "1                 0                  1  2019-05-12 14:25:55  2019      5   12   \n",
       "2                 4                 15  2019-05-03 15:18:37  2019      5    3   \n",
       "3                 4                  1  2019-05-02 16:40:38  2019      5    2   \n",
       "4                 5                  0  2019-04-25 16:51:58  2019      4   25   \n",
       "...             ...                ...                  ...   ...    ...  ...   \n",
       "1995              0                 84  2020-08-25 18:09:56  2020      8   25   \n",
       "1996              4                  5  2020-08-18 02:39:23  2020      8   18   \n",
       "1997              4                 13  2020-08-17 01:17:17  2020      8   17   \n",
       "1998              0                 38  2020-08-14 18:48:13  2020      8   14   \n",
       "1999              5                  5  2020-08-13 20:05:24  2020      8   13   \n",
       "\n",
       "      Hour  Minute  \n",
       "0       21      18  \n",
       "1       14      25  \n",
       "2       15      18  \n",
       "3       16      40  \n",
       "4       16      51  \n",
       "...    ...     ...  \n",
       "1995    18       9  \n",
       "1996     2      39  \n",
       "1997     1      17  \n",
       "1998    18      48  \n",
       "1999    20       5  \n",
       "\n",
       "[2000 rows x 13 columns]"
      ]
     },
     "execution_count": 10,
     "metadata": {},
     "output_type": "execute_result"
    }
   ],
   "source": [
    "# write you code here\n",
    "insta_df = pd.read_csv(\"Instagram_Data.csv\", nrows=2000)\n",
    "#Resetting index\n",
    "insta_df.reset_index(drop=True, inplace=True)\n",
    "##\n",
    "insta_df"
   ]
  },
  {
   "cell_type": "markdown",
   "metadata": {
    "id": "HdIufVjF13H3"
   },
   "source": [
    "    4- Show the 10 first rows of the data, its shape, and the coulmens names: (3 points)"
   ]
  },
  {
   "cell_type": "code",
   "execution_count": 12,
   "metadata": {
    "id": "rJd4Edpe13H4"
   },
   "outputs": [
    {
     "data": {
      "text/html": [
       "<div>\n",
       "<style scoped>\n",
       "    .dataframe tbody tr th:only-of-type {\n",
       "        vertical-align: middle;\n",
       "    }\n",
       "\n",
       "    .dataframe tbody tr th {\n",
       "        vertical-align: top;\n",
       "    }\n",
       "\n",
       "    .dataframe thead th {\n",
       "        text-align: right;\n",
       "    }\n",
       "</style>\n",
       "<table border=\"1\" class=\"dataframe\">\n",
       "  <thead>\n",
       "    <tr style=\"text-align: right;\">\n",
       "      <th></th>\n",
       "      <th>User uuid</th>\n",
       "      <th>Likes</th>\n",
       "      <th>Days passed from post</th>\n",
       "      <th>Likes Score</th>\n",
       "      <th>Type</th>\n",
       "      <th>Numer of Tags</th>\n",
       "      <th>Numer of Comments</th>\n",
       "      <th>Date Posted</th>\n",
       "      <th>Year</th>\n",
       "      <th>Month</th>\n",
       "      <th>Day</th>\n",
       "      <th>Hour</th>\n",
       "      <th>Minute</th>\n",
       "    </tr>\n",
       "  </thead>\n",
       "  <tbody>\n",
       "    <tr>\n",
       "      <th>0</th>\n",
       "      <td>1</td>\n",
       "      <td>506</td>\n",
       "      <td>657</td>\n",
       "      <td>0.74</td>\n",
       "      <td>Image</td>\n",
       "      <td>3</td>\n",
       "      <td>11</td>\n",
       "      <td>2019-05-12 21:18:39</td>\n",
       "      <td>2019</td>\n",
       "      <td>5</td>\n",
       "      <td>12</td>\n",
       "      <td>21</td>\n",
       "      <td>18</td>\n",
       "    </tr>\n",
       "    <tr>\n",
       "      <th>1</th>\n",
       "      <td>1</td>\n",
       "      <td>385</td>\n",
       "      <td>657</td>\n",
       "      <td>0.57</td>\n",
       "      <td>Image</td>\n",
       "      <td>0</td>\n",
       "      <td>1</td>\n",
       "      <td>2019-05-12 14:25:55</td>\n",
       "      <td>2019</td>\n",
       "      <td>5</td>\n",
       "      <td>12</td>\n",
       "      <td>14</td>\n",
       "      <td>25</td>\n",
       "    </tr>\n",
       "    <tr>\n",
       "      <th>2</th>\n",
       "      <td>1</td>\n",
       "      <td>373</td>\n",
       "      <td>666</td>\n",
       "      <td>0.55</td>\n",
       "      <td>Images</td>\n",
       "      <td>4</td>\n",
       "      <td>15</td>\n",
       "      <td>2019-05-03 15:18:37</td>\n",
       "      <td>2019</td>\n",
       "      <td>5</td>\n",
       "      <td>3</td>\n",
       "      <td>15</td>\n",
       "      <td>18</td>\n",
       "    </tr>\n",
       "    <tr>\n",
       "      <th>3</th>\n",
       "      <td>1</td>\n",
       "      <td>312</td>\n",
       "      <td>667</td>\n",
       "      <td>0.46</td>\n",
       "      <td>Images</td>\n",
       "      <td>4</td>\n",
       "      <td>1</td>\n",
       "      <td>2019-05-02 16:40:38</td>\n",
       "      <td>2019</td>\n",
       "      <td>5</td>\n",
       "      <td>2</td>\n",
       "      <td>16</td>\n",
       "      <td>40</td>\n",
       "    </tr>\n",
       "    <tr>\n",
       "      <th>4</th>\n",
       "      <td>1</td>\n",
       "      <td>513</td>\n",
       "      <td>674</td>\n",
       "      <td>0.75</td>\n",
       "      <td>Images</td>\n",
       "      <td>5</td>\n",
       "      <td>0</td>\n",
       "      <td>2019-04-25 16:51:58</td>\n",
       "      <td>2019</td>\n",
       "      <td>4</td>\n",
       "      <td>25</td>\n",
       "      <td>16</td>\n",
       "      <td>51</td>\n",
       "    </tr>\n",
       "    <tr>\n",
       "      <th>5</th>\n",
       "      <td>1</td>\n",
       "      <td>539</td>\n",
       "      <td>677</td>\n",
       "      <td>0.79</td>\n",
       "      <td>Images</td>\n",
       "      <td>3</td>\n",
       "      <td>3</td>\n",
       "      <td>2019-04-22 20:03:00</td>\n",
       "      <td>2019</td>\n",
       "      <td>4</td>\n",
       "      <td>22</td>\n",
       "      <td>20</td>\n",
       "      <td>3</td>\n",
       "    </tr>\n",
       "    <tr>\n",
       "      <th>6</th>\n",
       "      <td>1</td>\n",
       "      <td>330</td>\n",
       "      <td>677</td>\n",
       "      <td>0.49</td>\n",
       "      <td>Image</td>\n",
       "      <td>0</td>\n",
       "      <td>3</td>\n",
       "      <td>2019-04-22 15:07:34</td>\n",
       "      <td>2019</td>\n",
       "      <td>4</td>\n",
       "      <td>22</td>\n",
       "      <td>15</td>\n",
       "      <td>7</td>\n",
       "    </tr>\n",
       "    <tr>\n",
       "      <th>7</th>\n",
       "      <td>1</td>\n",
       "      <td>472</td>\n",
       "      <td>681</td>\n",
       "      <td>0.69</td>\n",
       "      <td>Images</td>\n",
       "      <td>3</td>\n",
       "      <td>7</td>\n",
       "      <td>2019-04-18 14:44:36</td>\n",
       "      <td>2019</td>\n",
       "      <td>4</td>\n",
       "      <td>18</td>\n",
       "      <td>14</td>\n",
       "      <td>44</td>\n",
       "    </tr>\n",
       "    <tr>\n",
       "      <th>8</th>\n",
       "      <td>1</td>\n",
       "      <td>272</td>\n",
       "      <td>682</td>\n",
       "      <td>0.40</td>\n",
       "      <td>Image</td>\n",
       "      <td>0</td>\n",
       "      <td>0</td>\n",
       "      <td>2019-04-17 15:42:56</td>\n",
       "      <td>2019</td>\n",
       "      <td>4</td>\n",
       "      <td>17</td>\n",
       "      <td>15</td>\n",
       "      <td>42</td>\n",
       "    </tr>\n",
       "    <tr>\n",
       "      <th>9</th>\n",
       "      <td>1</td>\n",
       "      <td>304</td>\n",
       "      <td>688</td>\n",
       "      <td>0.45</td>\n",
       "      <td>Images</td>\n",
       "      <td>3</td>\n",
       "      <td>0</td>\n",
       "      <td>2019-04-11 15:00:05</td>\n",
       "      <td>2019</td>\n",
       "      <td>4</td>\n",
       "      <td>11</td>\n",
       "      <td>15</td>\n",
       "      <td>0</td>\n",
       "    </tr>\n",
       "  </tbody>\n",
       "</table>\n",
       "</div>"
      ],
      "text/plain": [
       "   User uuid  Likes  Days passed from post  Likes Score    Type  \\\n",
       "0          1    506                    657         0.74   Image   \n",
       "1          1    385                    657         0.57   Image   \n",
       "2          1    373                    666         0.55  Images   \n",
       "3          1    312                    667         0.46  Images   \n",
       "4          1    513                    674         0.75  Images   \n",
       "5          1    539                    677         0.79  Images   \n",
       "6          1    330                    677         0.49   Image   \n",
       "7          1    472                    681         0.69  Images   \n",
       "8          1    272                    682         0.40   Image   \n",
       "9          1    304                    688         0.45  Images   \n",
       "\n",
       "   Numer of Tags  Numer of Comments          Date Posted  Year  Month  Day  \\\n",
       "0              3                 11  2019-05-12 21:18:39  2019      5   12   \n",
       "1              0                  1  2019-05-12 14:25:55  2019      5   12   \n",
       "2              4                 15  2019-05-03 15:18:37  2019      5    3   \n",
       "3              4                  1  2019-05-02 16:40:38  2019      5    2   \n",
       "4              5                  0  2019-04-25 16:51:58  2019      4   25   \n",
       "5              3                  3  2019-04-22 20:03:00  2019      4   22   \n",
       "6              0                  3  2019-04-22 15:07:34  2019      4   22   \n",
       "7              3                  7  2019-04-18 14:44:36  2019      4   18   \n",
       "8              0                  0  2019-04-17 15:42:56  2019      4   17   \n",
       "9              3                  0  2019-04-11 15:00:05  2019      4   11   \n",
       "\n",
       "   Hour  Minute  \n",
       "0    21      18  \n",
       "1    14      25  \n",
       "2    15      18  \n",
       "3    16      40  \n",
       "4    16      51  \n",
       "5    20       3  \n",
       "6    15       7  \n",
       "7    14      44  \n",
       "8    15      42  \n",
       "9    15       0  "
      ]
     },
     "execution_count": 12,
     "metadata": {},
     "output_type": "execute_result"
    }
   ],
   "source": [
    "# 10 first rows of the data\n",
    "insta_df.head(10)"
   ]
  },
  {
   "cell_type": "code",
   "execution_count": 13,
   "metadata": {
    "id": "Bm0VCUzH13H5"
   },
   "outputs": [
    {
     "data": {
      "text/plain": [
       "(2000, 13)"
      ]
     },
     "execution_count": 13,
     "metadata": {},
     "output_type": "execute_result"
    }
   ],
   "source": [
    "# insta_df shape\n",
    "insta_df.shape"
   ]
  },
  {
   "cell_type": "code",
   "execution_count": 14,
   "metadata": {
    "id": "fwRIMmAg13H5"
   },
   "outputs": [
    {
     "data": {
      "text/plain": [
       "Index(['User uuid', 'Likes', 'Days passed from post', 'Likes Score', 'Type',\n",
       "       'Numer of Tags', 'Numer of Comments', 'Date Posted', 'Year', 'Month',\n",
       "       'Day', 'Hour', 'Minute'],\n",
       "      dtype='object')"
      ]
     },
     "execution_count": 14,
     "metadata": {},
     "output_type": "execute_result"
    }
   ],
   "source": [
    "# insta_df column names\n",
    "insta_df.columns"
   ]
  },
  {
   "cell_type": "markdown",
   "metadata": {
    "id": "MOSwAA2Z13H5"
   },
   "source": [
    "    5- Check the number of samples in the dataset (1 point)"
   ]
  },
  {
   "cell_type": "code",
   "execution_count": 16,
   "metadata": {
    "id": "DQSRx-bh13H6"
   },
   "outputs": [
    {
     "data": {
      "text/plain": [
       "2000"
      ]
     },
     "execution_count": 16,
     "metadata": {},
     "output_type": "execute_result"
    }
   ],
   "source": [
    "# insta_df row numbers:\n",
    "len(insta_df)"
   ]
  },
  {
   "cell_type": "markdown",
   "metadata": {
    "id": "vf3U6HRD13H6"
   },
   "source": [
    "    6- Check the data type of each column ( 1 point)"
   ]
  },
  {
   "cell_type": "code",
   "execution_count": 18,
   "metadata": {
    "id": "KJmc6r-113H6"
   },
   "outputs": [
    {
     "data": {
      "text/plain": [
       "User uuid                  int64\n",
       "Likes                      int64\n",
       "Days passed from post      int64\n",
       "Likes Score              float64\n",
       "Type                      object\n",
       "Numer of Tags              int64\n",
       "Numer of Comments          int64\n",
       "Date Posted               object\n",
       "Year                       int64\n",
       "Month                      int64\n",
       "Day                        int64\n",
       "Hour                       int64\n",
       "Minute                     int64\n",
       "dtype: object"
      ]
     },
     "execution_count": 18,
     "metadata": {},
     "output_type": "execute_result"
    }
   ],
   "source": [
    "# Print datatypes\n",
    "insta_df.dtypes"
   ]
  },
  {
   "cell_type": "markdown",
   "metadata": {
    "id": "-jziyg2J13H7"
   },
   "source": [
    "    7- Remove columns from the dataframe:\n",
    "\n",
    "        a. Remove user id from the insta_df as there is no useful information from this column. (1 point)\n",
    "\n",
    "        b. Remove the Likes Score since it is calculated from the number of likes. (1 point)\n",
    "\n",
    "        c. Remove the date and time columns from the data frame since our goal is not to consider the posted date and time related to the number of likes (2 points)"
   ]
  },
  {
   "cell_type": "code",
   "execution_count": 20,
   "metadata": {
    "id": "p_PO2lT_13H7"
   },
   "outputs": [
    {
     "data": {
      "text/html": [
       "<div>\n",
       "<style scoped>\n",
       "    .dataframe tbody tr th:only-of-type {\n",
       "        vertical-align: middle;\n",
       "    }\n",
       "\n",
       "    .dataframe tbody tr th {\n",
       "        vertical-align: top;\n",
       "    }\n",
       "\n",
       "    .dataframe thead th {\n",
       "        text-align: right;\n",
       "    }\n",
       "</style>\n",
       "<table border=\"1\" class=\"dataframe\">\n",
       "  <thead>\n",
       "    <tr style=\"text-align: right;\">\n",
       "      <th></th>\n",
       "      <th>Likes</th>\n",
       "      <th>Days passed from post</th>\n",
       "      <th>Type</th>\n",
       "      <th>Numer of Tags</th>\n",
       "      <th>Numer of Comments</th>\n",
       "    </tr>\n",
       "  </thead>\n",
       "  <tbody>\n",
       "    <tr>\n",
       "      <th>0</th>\n",
       "      <td>506</td>\n",
       "      <td>657</td>\n",
       "      <td>Image</td>\n",
       "      <td>3</td>\n",
       "      <td>11</td>\n",
       "    </tr>\n",
       "    <tr>\n",
       "      <th>1</th>\n",
       "      <td>385</td>\n",
       "      <td>657</td>\n",
       "      <td>Image</td>\n",
       "      <td>0</td>\n",
       "      <td>1</td>\n",
       "    </tr>\n",
       "    <tr>\n",
       "      <th>2</th>\n",
       "      <td>373</td>\n",
       "      <td>666</td>\n",
       "      <td>Images</td>\n",
       "      <td>4</td>\n",
       "      <td>15</td>\n",
       "    </tr>\n",
       "    <tr>\n",
       "      <th>3</th>\n",
       "      <td>312</td>\n",
       "      <td>667</td>\n",
       "      <td>Images</td>\n",
       "      <td>4</td>\n",
       "      <td>1</td>\n",
       "    </tr>\n",
       "    <tr>\n",
       "      <th>4</th>\n",
       "      <td>513</td>\n",
       "      <td>674</td>\n",
       "      <td>Images</td>\n",
       "      <td>5</td>\n",
       "      <td>0</td>\n",
       "    </tr>\n",
       "    <tr>\n",
       "      <th>...</th>\n",
       "      <td>...</td>\n",
       "      <td>...</td>\n",
       "      <td>...</td>\n",
       "      <td>...</td>\n",
       "      <td>...</td>\n",
       "    </tr>\n",
       "    <tr>\n",
       "      <th>1995</th>\n",
       "      <td>58</td>\n",
       "      <td>186</td>\n",
       "      <td>Image</td>\n",
       "      <td>0</td>\n",
       "      <td>84</td>\n",
       "    </tr>\n",
       "    <tr>\n",
       "      <th>1996</th>\n",
       "      <td>81</td>\n",
       "      <td>193</td>\n",
       "      <td>Video</td>\n",
       "      <td>4</td>\n",
       "      <td>5</td>\n",
       "    </tr>\n",
       "    <tr>\n",
       "      <th>1997</th>\n",
       "      <td>251</td>\n",
       "      <td>194</td>\n",
       "      <td>Image</td>\n",
       "      <td>4</td>\n",
       "      <td>13</td>\n",
       "    </tr>\n",
       "    <tr>\n",
       "      <th>1998</th>\n",
       "      <td>962</td>\n",
       "      <td>197</td>\n",
       "      <td>Images</td>\n",
       "      <td>0</td>\n",
       "      <td>38</td>\n",
       "    </tr>\n",
       "    <tr>\n",
       "      <th>1999</th>\n",
       "      <td>179</td>\n",
       "      <td>198</td>\n",
       "      <td>Images</td>\n",
       "      <td>5</td>\n",
       "      <td>5</td>\n",
       "    </tr>\n",
       "  </tbody>\n",
       "</table>\n",
       "<p>2000 rows × 5 columns</p>\n",
       "</div>"
      ],
      "text/plain": [
       "      Likes  Days passed from post    Type  Numer of Tags  Numer of Comments\n",
       "0       506                    657   Image              3                 11\n",
       "1       385                    657   Image              0                  1\n",
       "2       373                    666  Images              4                 15\n",
       "3       312                    667  Images              4                  1\n",
       "4       513                    674  Images              5                  0\n",
       "...     ...                    ...     ...            ...                ...\n",
       "1995     58                    186   Image              0                 84\n",
       "1996     81                    193   Video              4                  5\n",
       "1997    251                    194   Image              4                 13\n",
       "1998    962                    197  Images              0                 38\n",
       "1999    179                    198  Images              5                  5\n",
       "\n",
       "[2000 rows x 5 columns]"
      ]
     },
     "execution_count": 20,
     "metadata": {},
     "output_type": "execute_result"
    }
   ],
   "source": [
    "# Remove User uuid\n",
    "insta_df.drop('User uuid', axis=1, inplace=True)\n",
    "# Remove User Likes Score\n",
    "insta_df.drop('Likes Score', axis=1, inplace=True)\n",
    "\n",
    "# Remove all columns between column index 1 to 3\n",
    "insta_df.drop(insta_df.columns[-1:-7:-1], axis=1, inplace=True)\n",
    "# show the insta_df after you remove the required columns\n",
    "insta_df"
   ]
  },
  {
   "cell_type": "markdown",
   "metadata": {
    "id": "zr-WQ_8b13H7"
   },
   "source": [
    "    8- Check how many unique values are on the \"Type\" column. ( 1 point)\n",
    "        * you can use the unique() function if you wish"
   ]
  },
  {
   "cell_type": "code",
   "execution_count": 22,
   "metadata": {
    "id": "p_IR9pYW13H7"
   },
   "outputs": [
    {
     "data": {
      "text/plain": [
       "3"
      ]
     },
     "execution_count": 22,
     "metadata": {},
     "output_type": "execute_result"
    }
   ],
   "source": [
    "# write you code here\n",
    "uni_val = insta_df['Type'].unique()\n",
    "len(uni_val)"
   ]
  },
  {
   "cell_type": "markdown",
   "metadata": {
    "id": "b_tbkz3M13H8"
   },
   "source": [
    "    9- Buid a label encoder or (function + apply method in pandas) to change the \"Type\" coulmn values to numeric values (4 point)\n",
    "    a- IMAGE = 1, IMAGES = 2 and Vide0 = 3"
   ]
  },
  {
   "cell_type": "code",
   "execution_count": 24,
   "metadata": {
    "id": "HiS5AybO13H8"
   },
   "outputs": [
    {
     "data": {
      "text/html": [
       "<div>\n",
       "<style scoped>\n",
       "    .dataframe tbody tr th:only-of-type {\n",
       "        vertical-align: middle;\n",
       "    }\n",
       "\n",
       "    .dataframe tbody tr th {\n",
       "        vertical-align: top;\n",
       "    }\n",
       "\n",
       "    .dataframe thead th {\n",
       "        text-align: right;\n",
       "    }\n",
       "</style>\n",
       "<table border=\"1\" class=\"dataframe\">\n",
       "  <thead>\n",
       "    <tr style=\"text-align: right;\">\n",
       "      <th></th>\n",
       "      <th>Likes</th>\n",
       "      <th>Days passed from post</th>\n",
       "      <th>Type</th>\n",
       "      <th>Numer of Tags</th>\n",
       "      <th>Numer of Comments</th>\n",
       "    </tr>\n",
       "  </thead>\n",
       "  <tbody>\n",
       "    <tr>\n",
       "      <th>0</th>\n",
       "      <td>506</td>\n",
       "      <td>657</td>\n",
       "      <td>0</td>\n",
       "      <td>3</td>\n",
       "      <td>11</td>\n",
       "    </tr>\n",
       "    <tr>\n",
       "      <th>1</th>\n",
       "      <td>385</td>\n",
       "      <td>657</td>\n",
       "      <td>0</td>\n",
       "      <td>0</td>\n",
       "      <td>1</td>\n",
       "    </tr>\n",
       "    <tr>\n",
       "      <th>2</th>\n",
       "      <td>373</td>\n",
       "      <td>666</td>\n",
       "      <td>1</td>\n",
       "      <td>4</td>\n",
       "      <td>15</td>\n",
       "    </tr>\n",
       "    <tr>\n",
       "      <th>3</th>\n",
       "      <td>312</td>\n",
       "      <td>667</td>\n",
       "      <td>1</td>\n",
       "      <td>4</td>\n",
       "      <td>1</td>\n",
       "    </tr>\n",
       "    <tr>\n",
       "      <th>4</th>\n",
       "      <td>513</td>\n",
       "      <td>674</td>\n",
       "      <td>1</td>\n",
       "      <td>5</td>\n",
       "      <td>0</td>\n",
       "    </tr>\n",
       "    <tr>\n",
       "      <th>...</th>\n",
       "      <td>...</td>\n",
       "      <td>...</td>\n",
       "      <td>...</td>\n",
       "      <td>...</td>\n",
       "      <td>...</td>\n",
       "    </tr>\n",
       "    <tr>\n",
       "      <th>1995</th>\n",
       "      <td>58</td>\n",
       "      <td>186</td>\n",
       "      <td>0</td>\n",
       "      <td>0</td>\n",
       "      <td>84</td>\n",
       "    </tr>\n",
       "    <tr>\n",
       "      <th>1996</th>\n",
       "      <td>81</td>\n",
       "      <td>193</td>\n",
       "      <td>2</td>\n",
       "      <td>4</td>\n",
       "      <td>5</td>\n",
       "    </tr>\n",
       "    <tr>\n",
       "      <th>1997</th>\n",
       "      <td>251</td>\n",
       "      <td>194</td>\n",
       "      <td>0</td>\n",
       "      <td>4</td>\n",
       "      <td>13</td>\n",
       "    </tr>\n",
       "    <tr>\n",
       "      <th>1998</th>\n",
       "      <td>962</td>\n",
       "      <td>197</td>\n",
       "      <td>1</td>\n",
       "      <td>0</td>\n",
       "      <td>38</td>\n",
       "    </tr>\n",
       "    <tr>\n",
       "      <th>1999</th>\n",
       "      <td>179</td>\n",
       "      <td>198</td>\n",
       "      <td>1</td>\n",
       "      <td>5</td>\n",
       "      <td>5</td>\n",
       "    </tr>\n",
       "  </tbody>\n",
       "</table>\n",
       "<p>2000 rows × 5 columns</p>\n",
       "</div>"
      ],
      "text/plain": [
       "      Likes  Days passed from post  Type  Numer of Tags  Numer of Comments\n",
       "0       506                    657     0              3                 11\n",
       "1       385                    657     0              0                  1\n",
       "2       373                    666     1              4                 15\n",
       "3       312                    667     1              4                  1\n",
       "4       513                    674     1              5                  0\n",
       "...     ...                    ...   ...            ...                ...\n",
       "1995     58                    186     0              0                 84\n",
       "1996     81                    193     2              4                  5\n",
       "1997    251                    194     0              4                 13\n",
       "1998    962                    197     1              0                 38\n",
       "1999    179                    198     1              5                  5\n",
       "\n",
       "[2000 rows x 5 columns]"
      ]
     },
     "execution_count": 24,
     "metadata": {},
     "output_type": "execute_result"
    }
   ],
   "source": [
    "# Encode \"Type\"\n",
    "label_en = LabelEncoder()\n",
    "insta_df['Type'] = label_en.fit_transform(insta_df['Type'])\n",
    "\n",
    "##\n",
    "insta_df"
   ]
  },
  {
   "cell_type": "markdown",
   "metadata": {
    "id": "y610V4t-13H8"
   },
   "source": [
    "    10- Check how many NaN values are in each column:\n",
    "\n",
    "        a. How many NaNs as total ( 1 point)\n",
    "\n",
    "        b. How many NaNs as a percentage of overall data ( 1 point)"
   ]
  },
  {
   "cell_type": "code",
   "execution_count": 26,
   "metadata": {
    "id": "eoIl5u3z13H8"
   },
   "outputs": [
    {
     "name": "stdout",
     "output_type": "stream",
     "text": [
      "Likes                    0\n",
      "Days passed from post    0\n",
      "Type                     0\n",
      "Numer of Tags            0\n",
      "Numer of Comments        0\n",
      "dtype: int64\n",
      "\n",
      "Total NaNs: 0\n"
     ]
    }
   ],
   "source": [
    "# a. How many NaNs as total\n",
    "print(insta_df.isna().sum())\n",
    "print('\\nTotal NaNs:',insta_df.isna().sum().sum())"
   ]
  },
  {
   "cell_type": "code",
   "execution_count": 27,
   "metadata": {
    "id": "2mZ86GSW13H9"
   },
   "outputs": [
    {
     "name": "stdout",
     "output_type": "stream",
     "text": [
      "NaNs as a percentage of overall data is 0.0 %\n"
     ]
    }
   ],
   "source": [
    "# b. How many NaNs as a percentage of overall data\n",
    "print('NaNs as a percentage of overall data is', (insta_df.isna().sum().sum())*100/(insta_df.size),'%')"
   ]
  },
  {
   "cell_type": "markdown",
   "metadata": {
    "id": "jteaLpCY13H9"
   },
   "source": [
    "    11- Divide the data into features (X), and target (y) --> your target is Likes  (2 points)"
   ]
  },
  {
   "cell_type": "code",
   "execution_count": 29,
   "metadata": {
    "id": "J3f1Vs8f13H9"
   },
   "outputs": [
    {
     "data": {
      "text/html": [
       "<div>\n",
       "<style scoped>\n",
       "    .dataframe tbody tr th:only-of-type {\n",
       "        vertical-align: middle;\n",
       "    }\n",
       "\n",
       "    .dataframe tbody tr th {\n",
       "        vertical-align: top;\n",
       "    }\n",
       "\n",
       "    .dataframe thead th {\n",
       "        text-align: right;\n",
       "    }\n",
       "</style>\n",
       "<table border=\"1\" class=\"dataframe\">\n",
       "  <thead>\n",
       "    <tr style=\"text-align: right;\">\n",
       "      <th></th>\n",
       "      <th>Days passed from post</th>\n",
       "      <th>Type</th>\n",
       "      <th>Numer of Tags</th>\n",
       "      <th>Numer of Comments</th>\n",
       "    </tr>\n",
       "  </thead>\n",
       "  <tbody>\n",
       "    <tr>\n",
       "      <th>0</th>\n",
       "      <td>657</td>\n",
       "      <td>0</td>\n",
       "      <td>3</td>\n",
       "      <td>11</td>\n",
       "    </tr>\n",
       "    <tr>\n",
       "      <th>1</th>\n",
       "      <td>657</td>\n",
       "      <td>0</td>\n",
       "      <td>0</td>\n",
       "      <td>1</td>\n",
       "    </tr>\n",
       "    <tr>\n",
       "      <th>2</th>\n",
       "      <td>666</td>\n",
       "      <td>1</td>\n",
       "      <td>4</td>\n",
       "      <td>15</td>\n",
       "    </tr>\n",
       "    <tr>\n",
       "      <th>3</th>\n",
       "      <td>667</td>\n",
       "      <td>1</td>\n",
       "      <td>4</td>\n",
       "      <td>1</td>\n",
       "    </tr>\n",
       "    <tr>\n",
       "      <th>4</th>\n",
       "      <td>674</td>\n",
       "      <td>1</td>\n",
       "      <td>5</td>\n",
       "      <td>0</td>\n",
       "    </tr>\n",
       "    <tr>\n",
       "      <th>...</th>\n",
       "      <td>...</td>\n",
       "      <td>...</td>\n",
       "      <td>...</td>\n",
       "      <td>...</td>\n",
       "    </tr>\n",
       "    <tr>\n",
       "      <th>1995</th>\n",
       "      <td>186</td>\n",
       "      <td>0</td>\n",
       "      <td>0</td>\n",
       "      <td>84</td>\n",
       "    </tr>\n",
       "    <tr>\n",
       "      <th>1996</th>\n",
       "      <td>193</td>\n",
       "      <td>2</td>\n",
       "      <td>4</td>\n",
       "      <td>5</td>\n",
       "    </tr>\n",
       "    <tr>\n",
       "      <th>1997</th>\n",
       "      <td>194</td>\n",
       "      <td>0</td>\n",
       "      <td>4</td>\n",
       "      <td>13</td>\n",
       "    </tr>\n",
       "    <tr>\n",
       "      <th>1998</th>\n",
       "      <td>197</td>\n",
       "      <td>1</td>\n",
       "      <td>0</td>\n",
       "      <td>38</td>\n",
       "    </tr>\n",
       "    <tr>\n",
       "      <th>1999</th>\n",
       "      <td>198</td>\n",
       "      <td>1</td>\n",
       "      <td>5</td>\n",
       "      <td>5</td>\n",
       "    </tr>\n",
       "  </tbody>\n",
       "</table>\n",
       "<p>2000 rows × 4 columns</p>\n",
       "</div>"
      ],
      "text/plain": [
       "      Days passed from post  Type  Numer of Tags  Numer of Comments\n",
       "0                       657     0              3                 11\n",
       "1                       657     0              0                  1\n",
       "2                       666     1              4                 15\n",
       "3                       667     1              4                  1\n",
       "4                       674     1              5                  0\n",
       "...                     ...   ...            ...                ...\n",
       "1995                    186     0              0                 84\n",
       "1996                    193     2              4                  5\n",
       "1997                    194     0              4                 13\n",
       "1998                    197     1              0                 38\n",
       "1999                    198     1              5                  5\n",
       "\n",
       "[2000 rows x 4 columns]"
      ]
     },
     "execution_count": 29,
     "metadata": {},
     "output_type": "execute_result"
    }
   ],
   "source": [
    "# your featuers X:\n",
    "X = insta_df.drop('Likes', axis=1)\n",
    "##\n",
    "X"
   ]
  },
  {
   "cell_type": "code",
   "execution_count": 30,
   "metadata": {
    "id": "o0OnXQPR13H9"
   },
   "outputs": [
    {
     "data": {
      "text/plain": [
       "0       506\n",
       "1       385\n",
       "2       373\n",
       "3       312\n",
       "4       513\n",
       "       ... \n",
       "1995     58\n",
       "1996     81\n",
       "1997    251\n",
       "1998    962\n",
       "1999    179\n",
       "Name: Likes, Length: 2000, dtype: int64"
      ]
     },
     "execution_count": 30,
     "metadata": {},
     "output_type": "execute_result"
    }
   ],
   "source": [
    "# your target y:\n",
    "\n",
    "y = insta_df['Likes']\n",
    "\n",
    "##\n",
    "y"
   ]
  },
  {
   "cell_type": "markdown",
   "metadata": {
    "id": "6zbuc5FU13H9"
   },
   "source": [
    "    12- Checking for Multicollinearity for features (X) using a correlation matrix. (1 points)"
   ]
  },
  {
   "cell_type": "code",
   "execution_count": 32,
   "metadata": {
    "id": "AuIqmwnw13H-"
   },
   "outputs": [
    {
     "data": {
      "image/png": "[encoded data removed]",
      "text/plain": [
       "<Figure size 1200x1000 with 2 Axes>"
      ]
     },
     "metadata": {},
     "output_type": "display_data"
    }
   ],
   "source": [
    "# write your code here:\n",
    "# to handle the date column dropping it to ensure that all columns are in numbers\n",
    "multi_coli = X.corr()\n",
    "plt.figure(figsize=(12,10))\n",
    "sns.heatmap(multi_coli, annot=True, cmap='coolwarm', fmt='.2f',square=True)\n",
    "plt.title('Correlation Matrix for features(X)')\n",
    "plt.show()"
   ]
  },
  {
   "cell_type": "markdown",
   "metadata": {
    "id": "1rUf45QJ13H-"
   },
   "source": [
    "    13- From the above pairplot, what did you observe? ( 1 points)\n",
    "\n",
    "##### Write your answer here:\n",
    "\n",
    "-- There is no correlation between the features apart from itself.\n",
    "\n",
    "-- Days passed from post has a negative correlation with all other features\n",
    "\n",
    "-- Number of comments and Type has zero correlation suggesting that they dont depend at all on each other."
   ]
  },
  {
   "cell_type": "markdown",
   "metadata": {
    "id": "OexfiW2g13H-"
   },
   "source": [
    "    14- Use a scatter plot to check each feature's relationship with the target variable, Likes. (1 points)"
   ]
  },
  {
   "cell_type": "code",
   "execution_count": 35,
   "metadata": {
    "id": "4ML8vFoo13H-"
   },
   "outputs": [
    {
     "data": {
      "image/png": "[encoded data removed]",
      "text/plain": [
       "<Figure size 1500x1000 with 4 Axes>"
      ]
     },
     "metadata": {},
     "output_type": "display_data"
    }
   ],
   "source": [
    "# write your code here\n",
    "plt.figure(figsize=(15,10))\n",
    "for i,col in enumerate(X.columns):\n",
    "    plt.subplot(3,2,i+1)\n",
    "    plt.scatter(X[col], y, alpha=0.5)\n",
    "    plt.title(f'Scatter plot of {col} vs Likes')\n",
    "    plt.xlabel(col)\n",
    "    plt.ylabel('Likes')\n",
    "plt.tight_layout()\n",
    "plt.show()"
   ]
  },
  {
   "cell_type": "markdown",
   "metadata": {
    "id": "gv51MgdM13H-"
   },
   "source": [
    "    15- From the above pairplot, what did you observe? ( 1 points)\n",
    "\n",
    "\n",
    "##### Write your answer here:\n",
    "\n",
    "-- Posts vs. Likes: Analyzing the relationship between the number of likes and the days since an Instagram post was made reveals that posts typically receive the highest number of likes within the first 250 days. During this initial period, some posts achieve significant popularity. However, as time progresses, interest in these posts tends to diminish, and after approximately 1,250 days, the chances of gaining additional likes drop considerably.\r\n",
    "\r\n",
    "-- Type vs. Likes: Single-image posts usually generate considerable engagement, with some attracting a large number of likes. Conversely, grouped posts tend to receive less attention, as the individual images within the group do not garner as much interaction. Interestingly, video posts often perform exceptionally well in terms of likes, frequently exceeding the engagement levels of grouped images. Their dynamic nature captures more viewer interest, resulting in a higher rate of likes.\r\n",
    "\r\n",
    "-- Tags vs. Likes: There is generally a positive correlation between the number of tags in a post and the likes it receives. Utilizing more tags can enhance a post's reach and visibility. This strategy is commonly employed, as an increased number of tags improves discoverability, leading to higher engagement and ultimately more likes, which contributes to the post's overall popularity.\r\n",
    "\r\n",
    "-- Likes vs. Number of Comments: Likes and comments usually exhibit a positive correlation, as both metrics are influenced by the post's reach. Interestingly, some posts may garner more comments yet receive fewer likes, suggesting that a high comment count does not always equate to increased likes."
   ]
  },
  {
   "cell_type": "markdown",
   "metadata": {
    "id": "sEqOlvu_13H-"
   },
   "source": [
    "    16- Display the target distribution using histogram (1 points)"
   ]
  },
  {
   "cell_type": "code",
   "execution_count": 38,
   "metadata": {
    "id": "YTfPCGV713H-"
   },
   "outputs": [
    {
     "data": {
      "image/png": "[encoded data removed]",
      "text/plain": [
       "<Figure size 1000x600 with 1 Axes>"
      ]
     },
     "metadata": {},
     "output_type": "display_data"
    },
    {
     "name": "stdout",
     "output_type": "stream",
     "text": [
      "0       506\n",
      "1       385\n",
      "2       373\n",
      "3       312\n",
      "4       513\n",
      "       ... \n",
      "1995     58\n",
      "1996     81\n",
      "1997    251\n",
      "1998    962\n",
      "1999    179\n",
      "Name: Likes, Length: 2000, dtype: int64\n"
     ]
    }
   ],
   "source": [
    "# write your code here:\n",
    "plt.figure(figsize=(10, 6))\n",
    "plt.hist(insta_df['Likes'], bins=30, color='blue', edgecolor='black', alpha=0.7)\n",
    "plt.title('Target Distribution')\n",
    "plt.xlabel('Target Values')\n",
    "plt.ylabel('Frequency')\n",
    "#plt.grid(axis='y', alpha=0.75)\n",
    "plt.show()\n",
    "print(y)"
   ]
  },
  {
   "cell_type": "markdown",
   "metadata": {
    "id": "LsU1sL0r13H_"
   },
   "source": [
    "    17- From the above histogram, what did you observe about the target distribution? ( 1 point)\n",
    "    \n",
    "\n",
    "##### Write your answer here:\n",
    "\n",
    "--This histogram summarizes the distribution of likes across Instagram posts in the dataset, illustrating the general trend in post popularity. It indicates that most posts receive a low to moderate number of likes. The distribution is right-skewed, indicating that the majority of posts have relatively few likes. Out of 2,000 posts, 1,800 received fewer than 1,500 likes, while only a small fraction surpassed 2,000 likes."
   ]
  },
  {
   "cell_type": "markdown",
   "metadata": {
    "id": "SwQC-LFV13H_"
   },
   "source": [
    "    18-Transfer the target y into log to have the normal distributions: (1 point)"
   ]
  },
  {
   "cell_type": "code",
   "execution_count": 41,
   "metadata": {
    "id": "37uNhh_a13H_"
   },
   "outputs": [],
   "source": [
    "#transfer the target y into log\n",
    "y = np.log(y)"
   ]
  },
  {
   "cell_type": "markdown",
   "metadata": {
    "id": "Uzzc9lR013H_"
   },
   "source": [
    "### Preparing the machine learning pipeline\n"
   ]
  },
  {
   "cell_type": "markdown",
   "metadata": {
    "id": "X8fzxpWL13H_"
   },
   "source": [
    "    19- Splitting the data into training 80% and testing sets 20%. (1 point)\n",
    "        * print the sizes of our training and test set to verify if the splitting has occurred properly. (1 point)"
   ]
  },
  {
   "cell_type": "code",
   "execution_count": 44,
   "metadata": {
    "id": "Bc1YDei813H_"
   },
   "outputs": [
    {
     "name": "stdout",
     "output_type": "stream",
     "text": [
      "Training set size (X_train): 1600\n",
      "Test set size (X_test): 400\n"
     ]
    }
   ],
   "source": [
    "from sklearn.model_selection import train_test_split\n",
    "# Splitting the data:\n",
    "X_train, X_test, y_train, y_test = train_test_split(X, y, test_size=0.2, random_state=42)\n",
    "# print the sizes of our training and test set:\n",
    "print(f\"Training set size (X_train): {len(X_train)}\")\n",
    "print(f\"Test set size (X_test): {len(X_test)}\")"
   ]
  },
  {
   "cell_type": "markdown",
   "metadata": {
    "id": "FZe1eoav13IA"
   },
   "source": [
    "    20- Use Pipeline class with the cross-validation to fit the scaling on only the training dataset and evaluate the linear regression model, (Use k=10 and MSE as your metric)( 2 point)\n",
    "\n",
    "        * 'neg_mean_squared_error' returns the negated value of the MSE; make sure to take the absolute to get the positive one (1 point)\n",
    "        * print the average MSE (1 point)"
   ]
  },
  {
   "cell_type": "code",
   "execution_count": 46,
   "metadata": {
    "id": "ubV5evkp13IA"
   },
   "outputs": [
    {
     "name": "stdout",
     "output_type": "stream",
     "text": [
      "Average MSE from cross-validation: 1.269653249692227\n"
     ]
    }
   ],
   "source": [
    "from sklearn.model_selection import cross_val_score\n",
    "from sklearn.linear_model import LinearRegression\n",
    "from sklearn.preprocessing import StandardScaler\n",
    "from sklearn.pipeline import Pipeline\n",
    "# writer your code here:\n",
    "pipeline = Pipeline([\n",
    "    ('scaler', StandardScaler()),  # Scale the data\n",
    "    ('regressor', LinearRegression())  # Linear regression model\n",
    "])\n",
    "mse_scores = cross_val_score(pipeline, X_train, y_train, cv=10, scoring='neg_mean_squared_error')\n",
    "mse_scores = -mse_scores\n",
    "average_mse = np.mean(mse_scores)\n",
    "print(f'Average MSE from cross-validation: {average_mse}')"
   ]
  },
  {
   "cell_type": "markdown",
   "metadata": {
    "id": "b73aw1qi13IA"
   },
   "source": [
    "    21- Hyperparameters tuning using GridSearchCV (Use k=10 and MSE as your metric):\n",
    "\n",
    "        A. Ridge regression:\n",
    "            * Find out the best value of α’s (-3, -2, 1, 2, 3) for Ridge regression (1 point)\n",
    "            * print the best score and the best alpha value (1 point)"
   ]
  },
  {
   "cell_type": "code",
   "execution_count": 48,
   "metadata": {
    "id": "1XaXrcE113IA"
   },
   "outputs": [
    {
     "name": "stdout",
     "output_type": "stream",
     "text": [
      "Best MSE: 1.2696419824350487\n",
      "Best alpha: 3\n"
     ]
    }
   ],
   "source": [
    "from sklearn.linear_model import Ridge\n",
    "from sklearn.model_selection import GridSearchCV\n",
    "from sklearn.metrics import mean_squared_error\n",
    "# write your code here:\n",
    "ridge_model = Ridge()\n",
    "alpha_values = {'alpha': [-3, -2, 1, 2, 3]}\n",
    "\n",
    "# Set up GridSearchCV\n",
    "ridge_cv = GridSearchCV(estimator=ridge_model, \n",
    "                        param_grid=alpha_values, \n",
    "                        scoring='neg_mean_squared_error',  # Use negated MSE as scoring\n",
    "                        cv=10,  # 10-fold cross-validation\n",
    "                        n_jobs=-1)  # Use all available processors\n",
    "\n",
    "# Fit the GridSearchCV to the training data\n",
    "ridge_cv.fit(X_train, y_train)\n",
    "\n",
    "best_mse = -ridge_cv.best_score_  \n",
    "best_alpha = ridge_cv.best_params_['alpha']\n",
    "\n",
    "# Print the best score and the best alpha value\n",
    "print(f'Best MSE: {best_mse}')\n",
    "print(f'Best alpha: {best_alpha}')"
   ]
  },
  {
   "cell_type": "markdown",
   "metadata": {
    "id": "1rRFGs3a13IA"
   },
   "source": [
    "        B. Lasso:\n",
    "            * Find out the best value of α’s (-3, -2, 1, 2, 3) for Lasso method. (1 point)\n",
    "            * print the best score and the best alpha value (1 point)"
   ]
  },
  {
   "cell_type": "code",
   "execution_count": 50,
   "metadata": {
    "id": "aofLi-aq13IB"
   },
   "outputs": [
    {
     "name": "stdout",
     "output_type": "stream",
     "text": [
      "Best MSE: 1.2772322657032114\n",
      "Best alpha: 1\n"
     ]
    }
   ],
   "source": [
    "from sklearn.linear_model import Lasso\n",
    "# write your code here:\n",
    "lasso_model = Lasso()\n",
    "lasso_cv = GridSearchCV(estimator=lasso_model, \n",
    "                        param_grid=alpha_values, \n",
    "                        scoring='neg_mean_squared_error', \n",
    "                        cv=10,  # 10-fold cross-validation\n",
    "                        n_jobs=-1)  # Use all available processors\n",
    "\n",
    "# Fit the GridSearchCV to the training data\n",
    "lasso_cv.fit(X_train, y_train)\n",
    "\n",
    "best_mse = -lasso_cv.best_score_ \n",
    "best_alpha = lasso_cv.best_params_['alpha']\n",
    "print(f'Best MSE: {best_mse}')\n",
    "print(f'Best alpha: {best_alpha}')"
   ]
  },
  {
   "cell_type": "markdown",
   "metadata": {
    "id": "ga1vBFZU13IB"
   },
   "source": [
    "#### Robust regression"
   ]
  },
  {
   "cell_type": "markdown",
   "metadata": {
    "id": "F_e8kUGW13IB"
   },
   "source": [
    "      22- Use Pipeline class with the cross-validation with k= 10 to fit the scaling on only the training dataset, and evaluate the models using 'neg_mean_squared_error':\n",
    "    \n",
    "            A.  The Huber regression model module ( 1 points)\n",
    "                * print the absolute average MSE (1 point)"
   ]
  },
  {
   "cell_type": "code",
   "execution_count": 53,
   "metadata": {
    "id": "NAXOVc_Q13IB"
   },
   "outputs": [
    {
     "name": "stdout",
     "output_type": "stream",
     "text": [
      "Average MSE (Huber regression): 1.6378851316174738\n"
     ]
    }
   ],
   "source": [
    "# write your code here:\n",
    "from sklearn.linear_model import HuberRegressor\n",
    "pipeline = Pipeline([\n",
    "    ('scaler', StandardScaler()),  # Scale the data\n",
    "    ('regressor', HuberRegressor())  # Huber regression model\n",
    "])\n",
    "\n",
    "# Perform cross-validation with 10 folds and neg_mean_squared_error as the scoring metric\n",
    "mse_scores = cross_val_score(pipeline, X_train, y_train, cv=10, scoring='neg_mean_squared_error')\n",
    "\n",
    "# Convert the negative MSE to positive\n",
    "mse_scores = -mse_scores\n",
    "\n",
    "# Calculate the average MSE\n",
    "average_mse = np.mean(mse_scores)\n",
    "\n",
    "# Print the average MSE\n",
    "print(f'Average MSE (Huber regression): {average_mse}')"
   ]
  },
  {
   "cell_type": "markdown",
   "metadata": {
    "id": "By5bWePS13IB"
   },
   "source": [
    "        B.  The RANSAC regression model modle ( 1 point)\n",
    "            * print the absolute avarge MSE (1 point)"
   ]
  },
  {
   "cell_type": "code",
   "execution_count": 55,
   "metadata": {
    "id": "VWyKds4g13IB"
   },
   "outputs": [
    {
     "name": "stdout",
     "output_type": "stream",
     "text": [
      "Average MSE (RANSAC regression): 14.266349023637039\n"
     ]
    }
   ],
   "source": [
    "# write your code here:\n",
    "from sklearn.linear_model import RANSACRegressor\n",
    "pipeline = Pipeline([\n",
    "    ('scaler', StandardScaler()),  # Scale the data\n",
    "    ('regressor', RANSACRegressor())  # RANSAC regression model\n",
    "])\n",
    "\n",
    "# Perform cross-validation with 10 folds and neg_mean_squared_error as the scoring metric\n",
    "mse_scores = cross_val_score(pipeline, X_train, y_train, cv=10, scoring='neg_mean_squared_error')\n",
    "\n",
    "# Convert the negative MSE to positive\n",
    "mse_scores = -mse_scores\n",
    "\n",
    "# Calculate the average MSE\n",
    "average_mse = np.mean(mse_scores)\n",
    "\n",
    "# Print the average MSE\n",
    "print(f'Average MSE (RANSAC regression): {average_mse}')"
   ]
  },
  {
   "cell_type": "markdown",
   "metadata": {
    "id": "UpBaoPEl13IB"
   },
   "source": [
    "    23- From the above models you validated using cross-validation, which model performed very well on average? (1 point)         \n",
    "\n",
    "##### Write your answer here:\n",
    "\n",
    "-- Ridge Regression demonstrated superior performance by recording the lowest average value. \n",
    "\n",
    "-- Linear Regression was a close second, exhibiting a slightly higher average value than Ridge.\n",
    "\n",
    "-- Lasso, Ridge, Linear regressions were almost same but has a very slight differences."
   ]
  },
  {
   "cell_type": "markdown",
   "metadata": {
    "id": "LsyZOP3R13IC"
   },
   "source": [
    "    24- Use the Best model to build/fit your final model using your train-data.(5 points)"
   ]
  },
  {
   "cell_type": "code",
   "execution_count": 58,
   "metadata": {
    "id": "ayCJZr-n13IC"
   },
   "outputs": [
    {
     "data": {
      "text/html": [
       "<style>#sk-container-id-1 {\n",
       "  /* Definition of color scheme common for light and dark mode */\n",
       "  --sklearn-color-text: black;\n",
       "  --sklearn-color-line: gray;\n",
       "  /* Definition of color scheme for unfitted estimators */\n",
       "  --sklearn-color-unfitted-level-0: #fff5e6;\n",
       "  --sklearn-color-unfitted-level-1: #f6e4d2;\n",
       "  --sklearn-color-unfitted-level-2: #ffe0b3;\n",
       "  --sklearn-color-unfitted-level-3: chocolate;\n",
       "  /* Definition of color scheme for fitted estimators */\n",
       "  --sklearn-color-fitted-level-0: #f0f8ff;\n",
       "  --sklearn-color-fitted-level-1: #d4ebff;\n",
       "  --sklearn-color-fitted-level-2: #b3dbfd;\n",
       "  --sklearn-color-fitted-level-3: cornflowerblue;\n",
       "\n",
       "  /* Specific color for light theme */\n",
       "  --sklearn-color-text-on-default-background: var(--sg-text-color, var(--theme-code-foreground, var(--jp-content-font-color1, black)));\n",
       "  --sklearn-color-background: var(--sg-background-color, var(--theme-background, var(--jp-layout-color0, white)));\n",
       "  --sklearn-color-border-box: var(--sg-text-color, var(--theme-code-foreground, var(--jp-content-font-color1, black)));\n",
       "  --sklearn-color-icon: #696969;\n",
       "\n",
       "  @media (prefers-color-scheme: dark) {\n",
       "    /* Redefinition of color scheme for dark theme */\n",
       "    --sklearn-color-text-on-default-background: var(--sg-text-color, var(--theme-code-foreground, var(--jp-content-font-color1, white)));\n",
       "    --sklearn-color-background: var(--sg-background-color, var(--theme-background, var(--jp-layout-color0, #111)));\n",
       "    --sklearn-color-border-box: var(--sg-text-color, var(--theme-code-foreground, var(--jp-content-font-color1, white)));\n",
       "    --sklearn-color-icon: #878787;\n",
       "  }\n",
       "}\n",
       "\n",
       "#sk-container-id-1 {\n",
       "  color: var(--sklearn-color-text);\n",
       "}\n",
       "\n",
       "#sk-container-id-1 pre {\n",
       "  padding: 0;\n",
       "}\n",
       "\n",
       "#sk-container-id-1 input.sk-hidden--visually {\n",
       "  border: 0;\n",
       "  clip: rect(1px 1px 1px 1px);\n",
       "  clip: rect(1px, 1px, 1px, 1px);\n",
       "  height: 1px;\n",
       "  margin: -1px;\n",
       "  overflow: hidden;\n",
       "  padding: 0;\n",
       "  position: absolute;\n",
       "  width: 1px;\n",
       "}\n",
       "\n",
       "#sk-container-id-1 div.sk-dashed-wrapped {\n",
       "  border: 1px dashed var(--sklearn-color-line);\n",
       "  margin: 0 0.4em 0.5em 0.4em;\n",
       "  box-sizing: border-box;\n",
       "  padding-bottom: 0.4em;\n",
       "  background-color: var(--sklearn-color-background);\n",
       "}\n",
       "\n",
       "#sk-container-id-1 div.sk-container {\n",
       "  /* jupyter's `normalize.less` sets `[hidden] { display: none; }`\n",
       "     but bootstrap.min.css set `[hidden] { display: none !important; }`\n",
       "     so we also need the `!important` here to be able to override the\n",
       "     default hidden behavior on the sphinx rendered scikit-learn.org.\n",
       "     See: https://github.com/scikit-learn/scikit-learn/issues/21755 */\n",
       "  display: inline-block !important;\n",
       "  position: relative;\n",
       "}\n",
       "\n",
       "#sk-container-id-1 div.sk-text-repr-fallback {\n",
       "  display: none;\n",
       "}\n",
       "\n",
       "div.sk-parallel-item,\n",
       "div.sk-serial,\n",
       "div.sk-item {\n",
       "  /* draw centered vertical line to link estimators */\n",
       "  background-image: linear-gradient(var(--sklearn-color-text-on-default-background), var(--sklearn-color-text-on-default-background));\n",
       "  background-size: 2px 100%;\n",
       "  background-repeat: no-repeat;\n",
       "  background-position: center center;\n",
       "}\n",
       "\n",
       "/* Parallel-specific style estimator block */\n",
       "\n",
       "#sk-container-id-1 div.sk-parallel-item::after {\n",
       "  content: \"\";\n",
       "  width: 100%;\n",
       "  border-bottom: 2px solid var(--sklearn-color-text-on-default-background);\n",
       "  flex-grow: 1;\n",
       "}\n",
       "\n",
       "#sk-container-id-1 div.sk-parallel {\n",
       "  display: flex;\n",
       "  align-items: stretch;\n",
       "  justify-content: center;\n",
       "  background-color: var(--sklearn-color-background);\n",
       "  position: relative;\n",
       "}\n",
       "\n",
       "#sk-container-id-1 div.sk-parallel-item {\n",
       "  display: flex;\n",
       "  flex-direction: column;\n",
       "}\n",
       "\n",
       "#sk-container-id-1 div.sk-parallel-item:first-child::after {\n",
       "  align-self: flex-end;\n",
       "  width: 50%;\n",
       "}\n",
       "\n",
       "#sk-container-id-1 div.sk-parallel-item:last-child::after {\n",
       "  align-self: flex-start;\n",
       "  width: 50%;\n",
       "}\n",
       "\n",
       "#sk-container-id-1 div.sk-parallel-item:only-child::after {\n",
       "  width: 0;\n",
       "}\n",
       "\n",
       "/* Serial-specific style estimator block */\n",
       "\n",
       "#sk-container-id-1 div.sk-serial {\n",
       "  display: flex;\n",
       "  flex-direction: column;\n",
       "  align-items: center;\n",
       "  background-color: var(--sklearn-color-background);\n",
       "  padding-right: 1em;\n",
       "  padding-left: 1em;\n",
       "}\n",
       "\n",
       "\n",
       "/* Toggleable style: style used for estimator/Pipeline/ColumnTransformer box that is\n",
       "clickable and can be expanded/collapsed.\n",
       "- Pipeline and ColumnTransformer use this feature and define the default style\n",
       "- Estimators will overwrite some part of the style using the `sk-estimator` class\n",
       "*/\n",
       "\n",
       "/* Pipeline and ColumnTransformer style (default) */\n",
       "\n",
       "#sk-container-id-1 div.sk-toggleable {\n",
       "  /* Default theme specific background. It is overwritten whether we have a\n",
       "  specific estimator or a Pipeline/ColumnTransformer */\n",
       "  background-color: var(--sklearn-color-background);\n",
       "}\n",
       "\n",
       "/* Toggleable label */\n",
       "#sk-container-id-1 label.sk-toggleable__label {\n",
       "  cursor: pointer;\n",
       "  display: block;\n",
       "  width: 100%;\n",
       "  margin-bottom: 0;\n",
       "  padding: 0.5em;\n",
       "  box-sizing: border-box;\n",
       "  text-align: center;\n",
       "}\n",
       "\n",
       "#sk-container-id-1 label.sk-toggleable__label-arrow:before {\n",
       "  /* Arrow on the left of the label */\n",
       "  content: \"▸\";\n",
       "  float: left;\n",
       "  margin-right: 0.25em;\n",
       "  color: var(--sklearn-color-icon);\n",
       "}\n",
       "\n",
       "#sk-container-id-1 label.sk-toggleable__label-arrow:hover:before {\n",
       "  color: var(--sklearn-color-text);\n",
       "}\n",
       "\n",
       "/* Toggleable content - dropdown */\n",
       "\n",
       "#sk-container-id-1 div.sk-toggleable__content {\n",
       "  max-height: 0;\n",
       "  max-width: 0;\n",
       "  overflow: hidden;\n",
       "  text-align: left;\n",
       "  /* unfitted */\n",
       "  background-color: var(--sklearn-color-unfitted-level-0);\n",
       "}\n",
       "\n",
       "#sk-container-id-1 div.sk-toggleable__content.fitted {\n",
       "  /* fitted */\n",
       "  background-color: var(--sklearn-color-fitted-level-0);\n",
       "}\n",
       "\n",
       "#sk-container-id-1 div.sk-toggleable__content pre {\n",
       "  margin: 0.2em;\n",
       "  border-radius: 0.25em;\n",
       "  color: var(--sklearn-color-text);\n",
       "  /* unfitted */\n",
       "  background-color: var(--sklearn-color-unfitted-level-0);\n",
       "}\n",
       "\n",
       "#sk-container-id-1 div.sk-toggleable__content.fitted pre {\n",
       "  /* unfitted */\n",
       "  background-color: var(--sklearn-color-fitted-level-0);\n",
       "}\n",
       "\n",
       "#sk-container-id-1 input.sk-toggleable__control:checked~div.sk-toggleable__content {\n",
       "  /* Expand drop-down */\n",
       "  max-height: 200px;\n",
       "  max-width: 100%;\n",
       "  overflow: auto;\n",
       "}\n",
       "\n",
       "#sk-container-id-1 input.sk-toggleable__control:checked~label.sk-toggleable__label-arrow:before {\n",
       "  content: \"▾\";\n",
       "}\n",
       "\n",
       "/* Pipeline/ColumnTransformer-specific style */\n",
       "\n",
       "#sk-container-id-1 div.sk-label input.sk-toggleable__control:checked~label.sk-toggleable__label {\n",
       "  color: var(--sklearn-color-text);\n",
       "  background-color: var(--sklearn-color-unfitted-level-2);\n",
       "}\n",
       "\n",
       "#sk-container-id-1 div.sk-label.fitted input.sk-toggleable__control:checked~label.sk-toggleable__label {\n",
       "  background-color: var(--sklearn-color-fitted-level-2);\n",
       "}\n",
       "\n",
       "/* Estimator-specific style */\n",
       "\n",
       "/* Colorize estimator box */\n",
       "#sk-container-id-1 div.sk-estimator input.sk-toggleable__control:checked~label.sk-toggleable__label {\n",
       "  /* unfitted */\n",
       "  background-color: var(--sklearn-color-unfitted-level-2);\n",
       "}\n",
       "\n",
       "#sk-container-id-1 div.sk-estimator.fitted input.sk-toggleable__control:checked~label.sk-toggleable__label {\n",
       "  /* fitted */\n",
       "  background-color: var(--sklearn-color-fitted-level-2);\n",
       "}\n",
       "\n",
       "#sk-container-id-1 div.sk-label label.sk-toggleable__label,\n",
       "#sk-container-id-1 div.sk-label label {\n",
       "  /* The background is the default theme color */\n",
       "  color: var(--sklearn-color-text-on-default-background);\n",
       "}\n",
       "\n",
       "/* On hover, darken the color of the background */\n",
       "#sk-container-id-1 div.sk-label:hover label.sk-toggleable__label {\n",
       "  color: var(--sklearn-color-text);\n",
       "  background-color: var(--sklearn-color-unfitted-level-2);\n",
       "}\n",
       "\n",
       "/* Label box, darken color on hover, fitted */\n",
       "#sk-container-id-1 div.sk-label.fitted:hover label.sk-toggleable__label.fitted {\n",
       "  color: var(--sklearn-color-text);\n",
       "  background-color: var(--sklearn-color-fitted-level-2);\n",
       "}\n",
       "\n",
       "/* Estimator label */\n",
       "\n",
       "#sk-container-id-1 div.sk-label label {\n",
       "  font-family: monospace;\n",
       "  font-weight: bold;\n",
       "  display: inline-block;\n",
       "  line-height: 1.2em;\n",
       "}\n",
       "\n",
       "#sk-container-id-1 div.sk-label-container {\n",
       "  text-align: center;\n",
       "}\n",
       "\n",
       "/* Estimator-specific */\n",
       "#sk-container-id-1 div.sk-estimator {\n",
       "  font-family: monospace;\n",
       "  border: 1px dotted var(--sklearn-color-border-box);\n",
       "  border-radius: 0.25em;\n",
       "  box-sizing: border-box;\n",
       "  margin-bottom: 0.5em;\n",
       "  /* unfitted */\n",
       "  background-color: var(--sklearn-color-unfitted-level-0);\n",
       "}\n",
       "\n",
       "#sk-container-id-1 div.sk-estimator.fitted {\n",
       "  /* fitted */\n",
       "  background-color: var(--sklearn-color-fitted-level-0);\n",
       "}\n",
       "\n",
       "/* on hover */\n",
       "#sk-container-id-1 div.sk-estimator:hover {\n",
       "  /* unfitted */\n",
       "  background-color: var(--sklearn-color-unfitted-level-2);\n",
       "}\n",
       "\n",
       "#sk-container-id-1 div.sk-estimator.fitted:hover {\n",
       "  /* fitted */\n",
       "  background-color: var(--sklearn-color-fitted-level-2);\n",
       "}\n",
       "\n",
       "/* Specification for estimator info (e.g. \"i\" and \"?\") */\n",
       "\n",
       "/* Common style for \"i\" and \"?\" */\n",
       "\n",
       ".sk-estimator-doc-link,\n",
       "a:link.sk-estimator-doc-link,\n",
       "a:visited.sk-estimator-doc-link {\n",
       "  float: right;\n",
       "  font-size: smaller;\n",
       "  line-height: 1em;\n",
       "  font-family: monospace;\n",
       "  background-color: var(--sklearn-color-background);\n",
       "  border-radius: 1em;\n",
       "  height: 1em;\n",
       "  width: 1em;\n",
       "  text-decoration: none !important;\n",
       "  margin-left: 1ex;\n",
       "  /* unfitted */\n",
       "  border: var(--sklearn-color-unfitted-level-1) 1pt solid;\n",
       "  color: var(--sklearn-color-unfitted-level-1);\n",
       "}\n",
       "\n",
       ".sk-estimator-doc-link.fitted,\n",
       "a:link.sk-estimator-doc-link.fitted,\n",
       "a:visited.sk-estimator-doc-link.fitted {\n",
       "  /* fitted */\n",
       "  border: var(--sklearn-color-fitted-level-1) 1pt solid;\n",
       "  color: var(--sklearn-color-fitted-level-1);\n",
       "}\n",
       "\n",
       "/* On hover */\n",
       "div.sk-estimator:hover .sk-estimator-doc-link:hover,\n",
       ".sk-estimator-doc-link:hover,\n",
       "div.sk-label-container:hover .sk-estimator-doc-link:hover,\n",
       ".sk-estimator-doc-link:hover {\n",
       "  /* unfitted */\n",
       "  background-color: var(--sklearn-color-unfitted-level-3);\n",
       "  color: var(--sklearn-color-background);\n",
       "  text-decoration: none;\n",
       "}\n",
       "\n",
       "div.sk-estimator.fitted:hover .sk-estimator-doc-link.fitted:hover,\n",
       ".sk-estimator-doc-link.fitted:hover,\n",
       "div.sk-label-container:hover .sk-estimator-doc-link.fitted:hover,\n",
       ".sk-estimator-doc-link.fitted:hover {\n",
       "  /* fitted */\n",
       "  background-color: var(--sklearn-color-fitted-level-3);\n",
       "  color: var(--sklearn-color-background);\n",
       "  text-decoration: none;\n",
       "}\n",
       "\n",
       "/* Span, style for the box shown on hovering the info icon */\n",
       ".sk-estimator-doc-link span {\n",
       "  display: none;\n",
       "  z-index: 9999;\n",
       "  position: relative;\n",
       "  font-weight: normal;\n",
       "  right: .2ex;\n",
       "  padding: .5ex;\n",
       "  margin: .5ex;\n",
       "  width: min-content;\n",
       "  min-width: 20ex;\n",
       "  max-width: 50ex;\n",
       "  color: var(--sklearn-color-text);\n",
       "  box-shadow: 2pt 2pt 4pt #999;\n",
       "  /* unfitted */\n",
       "  background: var(--sklearn-color-unfitted-level-0);\n",
       "  border: .5pt solid var(--sklearn-color-unfitted-level-3);\n",
       "}\n",
       "\n",
       ".sk-estimator-doc-link.fitted span {\n",
       "  /* fitted */\n",
       "  background: var(--sklearn-color-fitted-level-0);\n",
       "  border: var(--sklearn-color-fitted-level-3);\n",
       "}\n",
       "\n",
       ".sk-estimator-doc-link:hover span {\n",
       "  display: block;\n",
       "}\n",
       "\n",
       "/* \"?\"-specific style due to the `<a>` HTML tag */\n",
       "\n",
       "#sk-container-id-1 a.estimator_doc_link {\n",
       "  float: right;\n",
       "  font-size: 1rem;\n",
       "  line-height: 1em;\n",
       "  font-family: monospace;\n",
       "  background-color: var(--sklearn-color-background);\n",
       "  border-radius: 1rem;\n",
       "  height: 1rem;\n",
       "  width: 1rem;\n",
       "  text-decoration: none;\n",
       "  /* unfitted */\n",
       "  color: var(--sklearn-color-unfitted-level-1);\n",
       "  border: var(--sklearn-color-unfitted-level-1) 1pt solid;\n",
       "}\n",
       "\n",
       "#sk-container-id-1 a.estimator_doc_link.fitted {\n",
       "  /* fitted */\n",
       "  border: var(--sklearn-color-fitted-level-1) 1pt solid;\n",
       "  color: var(--sklearn-color-fitted-level-1);\n",
       "}\n",
       "\n",
       "/* On hover */\n",
       "#sk-container-id-1 a.estimator_doc_link:hover {\n",
       "  /* unfitted */\n",
       "  background-color: var(--sklearn-color-unfitted-level-3);\n",
       "  color: var(--sklearn-color-background);\n",
       "  text-decoration: none;\n",
       "}\n",
       "\n",
       "#sk-container-id-1 a.estimator_doc_link.fitted:hover {\n",
       "  /* fitted */\n",
       "  background-color: var(--sklearn-color-fitted-level-3);\n",
       "}\n",
       "</style><div id=\"sk-container-id-1\" class=\"sk-top-container\"><div class=\"sk-text-repr-fallback\"><pre>Pipeline(steps=[(&#x27;scaler&#x27;, StandardScaler()), (&#x27;regressor&#x27;, Ridge(alpha=2))])</pre><b>In a Jupyter environment, please rerun this cell to show the HTML representation or trust the notebook. <br />On GitHub, the HTML representation is unable to render, please try loading this page with nbviewer.org.</b></div><div class=\"sk-container\" hidden><div class=\"sk-item sk-dashed-wrapped\"><div class=\"sk-label-container\"><div class=\"sk-label fitted sk-toggleable\"><input class=\"sk-toggleable__control sk-hidden--visually\" id=\"sk-estimator-id-1\" type=\"checkbox\" ><label for=\"sk-estimator-id-1\" class=\"sk-toggleable__label fitted sk-toggleable__label-arrow fitted\">&nbsp;&nbsp;Pipeline<a class=\"sk-estimator-doc-link fitted\" rel=\"noreferrer\" target=\"_blank\" href=\"https://scikit-learn.org/1.4/modules/generated/sklearn.pipeline.Pipeline.html\">?<span>Documentation for Pipeline</span></a><span class=\"sk-estimator-doc-link fitted\">i<span>Fitted</span></span></label><div class=\"sk-toggleable__content fitted\"><pre>Pipeline(steps=[(&#x27;scaler&#x27;, StandardScaler()), (&#x27;regressor&#x27;, Ridge(alpha=2))])</pre></div> </div></div><div class=\"sk-serial\"><div class=\"sk-item\"><div class=\"sk-estimator fitted sk-toggleable\"><input class=\"sk-toggleable__control sk-hidden--visually\" id=\"sk-estimator-id-2\" type=\"checkbox\" ><label for=\"sk-estimator-id-2\" class=\"sk-toggleable__label fitted sk-toggleable__label-arrow fitted\">&nbsp;StandardScaler<a class=\"sk-estimator-doc-link fitted\" rel=\"noreferrer\" target=\"_blank\" href=\"https://scikit-learn.org/1.4/modules/generated/sklearn.preprocessing.StandardScaler.html\">?<span>Documentation for StandardScaler</span></a></label><div class=\"sk-toggleable__content fitted\"><pre>StandardScaler()</pre></div> </div></div><div class=\"sk-item\"><div class=\"sk-estimator fitted sk-toggleable\"><input class=\"sk-toggleable__control sk-hidden--visually\" id=\"sk-estimator-id-3\" type=\"checkbox\" ><label for=\"sk-estimator-id-3\" class=\"sk-toggleable__label fitted sk-toggleable__label-arrow fitted\">&nbsp;Ridge<a class=\"sk-estimator-doc-link fitted\" rel=\"noreferrer\" target=\"_blank\" href=\"https://scikit-learn.org/1.4/modules/generated/sklearn.linear_model.Ridge.html\">?<span>Documentation for Ridge</span></a></label><div class=\"sk-toggleable__content fitted\"><pre>Ridge(alpha=2)</pre></div> </div></div></div></div></div></div>"
      ],
      "text/plain": [
       "Pipeline(steps=[('scaler', StandardScaler()), ('regressor', Ridge(alpha=2))])"
      ]
     },
     "execution_count": 58,
     "metadata": {},
     "output_type": "execute_result"
    }
   ],
   "source": [
    "# write your code here:\n",
    "from sklearn.linear_model import Ridge\n",
    "best_alpha = 2\n",
    "final_model = Pipeline([\n",
    "    ('scaler', StandardScaler()),\n",
    "    ('regressor', Ridge(alpha=best_alpha)) \n",
    "])\n",
    "final_model.fit(X_train, y_train)\n"
   ]
  },
  {
   "cell_type": "markdown",
   "metadata": {
    "id": "LcOs3djI13IC"
   },
   "source": [
    "    25- Predict the number of likes for test data and compute the MSE (5 points)"
   ]
  },
  {
   "cell_type": "code",
   "execution_count": 60,
   "metadata": {
    "id": "xxs-tNOr13IC"
   },
   "outputs": [
    {
     "name": "stdout",
     "output_type": "stream",
     "text": [
      "Test MSE: 1.3010303486066273\n"
     ]
    }
   ],
   "source": [
    "# write your code here:\n",
    "from sklearn.metrics import mean_squared_error\n",
    "# 1. Predict the number of likes for the test data\n",
    "y_pred = final_model.predict(X_test)\n",
    "# 2. Compute the Mean Squared Error (MSE)\n",
    "mse_test = mean_squared_error(y_test, y_pred)\n",
    "# 3. Print the MSE\n",
    "print(f\"Test MSE: {mse_test}\")"
   ]
  },
  {
   "cell_type": "markdown",
   "metadata": {},
   "source": [
    "#### 26- Use deep learning model (dense or fully connecte layer ) (1 point)\n",
    "### You need to recall that this model is regression you have to choose linear activation function for the output later and it is only one neuron "
   ]
  },
  {
   "cell_type": "code",
   "execution_count": 62,
   "metadata": {},
   "outputs": [
    {
     "name": "stdout",
     "output_type": "stream",
     "text": [
      "Epoch 1/50\n",
      "\u001b[1m40/40\u001b[0m \u001b[32m━━━━━━━━━━━━━━━━━━━━\u001b[0m\u001b[37m\u001b[0m \u001b[1m3s\u001b[0m 11ms/step - loss: 1861.2163 - mse: 1861.2163 - val_loss: 25.5558 - val_mse: 25.5558\n",
      "Epoch 2/50\n",
      "\u001b[1m40/40\u001b[0m \u001b[32m━━━━━━━━━━━━━━━━━━━━\u001b[0m\u001b[37m\u001b[0m \u001b[1m0s\u001b[0m 5ms/step - loss: 27.0023 - mse: 27.0023 - val_loss: 8.7010 - val_mse: 8.7010\n",
      "Epoch 3/50\n",
      "\u001b[1m40/40\u001b[0m \u001b[32m━━━━━━━━━━━━━━━━━━━━\u001b[0m\u001b[37m\u001b[0m \u001b[1m0s\u001b[0m 6ms/step - loss: 8.6200 - mse: 8.6200 - val_loss: 6.4814 - val_mse: 6.4814\n",
      "Epoch 4/50\n",
      "\u001b[1m40/40\u001b[0m \u001b[32m━━━━━━━━━━━━━━━━━━━━\u001b[0m\u001b[37m\u001b[0m \u001b[1m0s\u001b[0m 6ms/step - loss: 6.9942 - mse: 6.9942 - val_loss: 6.7359 - val_mse: 6.7359\n",
      "Epoch 5/50\n",
      "\u001b[1m40/40\u001b[0m \u001b[32m━━━━━━━━━━━━━━━━━━━━\u001b[0m\u001b[37m\u001b[0m \u001b[1m0s\u001b[0m 6ms/step - loss: 6.5928 - mse: 6.5928 - val_loss: 5.5960 - val_mse: 5.5960\n",
      "Epoch 6/50\n",
      "\u001b[1m40/40\u001b[0m \u001b[32m━━━━━━━━━━━━━━━━━━━━\u001b[0m\u001b[37m\u001b[0m \u001b[1m0s\u001b[0m 6ms/step - loss: 6.0232 - mse: 6.0232 - val_loss: 5.6127 - val_mse: 5.6127\n",
      "Epoch 7/50\n",
      "\u001b[1m40/40\u001b[0m \u001b[32m━━━━━━━━━━━━━━━━━━━━\u001b[0m\u001b[37m\u001b[0m \u001b[1m0s\u001b[0m 5ms/step - loss: 8.3832 - mse: 8.3832 - val_loss: 5.6099 - val_mse: 5.6099\n",
      "Epoch 8/50\n",
      "\u001b[1m40/40\u001b[0m \u001b[32m━━━━━━━━━━━━━━━━━━━━\u001b[0m\u001b[37m\u001b[0m \u001b[1m0s\u001b[0m 5ms/step - loss: 5.7270 - mse: 5.7270 - val_loss: 4.9678 - val_mse: 4.9678\n",
      "Epoch 9/50\n",
      "\u001b[1m40/40\u001b[0m \u001b[32m━━━━━━━━━━━━━━━━━━━━\u001b[0m\u001b[37m\u001b[0m \u001b[1m0s\u001b[0m 4ms/step - loss: 5.1943 - mse: 5.1943 - val_loss: 4.6061 - val_mse: 4.6061\n",
      "Epoch 10/50\n",
      "\u001b[1m40/40\u001b[0m \u001b[32m━━━━━━━━━━━━━━━━━━━━\u001b[0m\u001b[37m\u001b[0m \u001b[1m0s\u001b[0m 5ms/step - loss: 5.4035 - mse: 5.4035 - val_loss: 4.7550 - val_mse: 4.7550\n",
      "Epoch 11/50\n",
      "\u001b[1m40/40\u001b[0m \u001b[32m━━━━━━━━━━━━━━━━━━━━\u001b[0m\u001b[37m\u001b[0m \u001b[1m0s\u001b[0m 5ms/step - loss: 4.8010 - mse: 4.8010 - val_loss: 4.3768 - val_mse: 4.3768\n",
      "Epoch 12/50\n",
      "\u001b[1m40/40\u001b[0m \u001b[32m━━━━━━━━━━━━━━━━━━━━\u001b[0m\u001b[37m\u001b[0m \u001b[1m0s\u001b[0m 4ms/step - loss: 4.6374 - mse: 4.6374 - val_loss: 4.0829 - val_mse: 4.0829\n",
      "Epoch 13/50\n",
      "\u001b[1m40/40\u001b[0m \u001b[32m━━━━━━━━━━━━━━━━━━━━\u001b[0m\u001b[37m\u001b[0m \u001b[1m0s\u001b[0m 4ms/step - loss: 4.8959 - mse: 4.8959 - val_loss: 4.1742 - val_mse: 4.1742\n",
      "Epoch 14/50\n",
      "\u001b[1m40/40\u001b[0m \u001b[32m━━━━━━━━━━━━━━━━━━━━\u001b[0m\u001b[37m\u001b[0m \u001b[1m0s\u001b[0m 4ms/step - loss: 6.4798 - mse: 6.4798 - val_loss: 5.6382 - val_mse: 5.6382\n",
      "Epoch 15/50\n",
      "\u001b[1m40/40\u001b[0m \u001b[32m━━━━━━━━━━━━━━━━━━━━\u001b[0m\u001b[37m\u001b[0m \u001b[1m0s\u001b[0m 5ms/step - loss: 10.0890 - mse: 10.0890 - val_loss: 3.2401 - val_mse: 3.2401\n",
      "Epoch 16/50\n",
      "\u001b[1m40/40\u001b[0m \u001b[32m━━━━━━━━━━━━━━━━━━━━\u001b[0m\u001b[37m\u001b[0m \u001b[1m0s\u001b[0m 4ms/step - loss: 3.8581 - mse: 3.8581 - val_loss: 3.0360 - val_mse: 3.0360\n",
      "Epoch 17/50\n",
      "\u001b[1m40/40\u001b[0m \u001b[32m━━━━━━━━━━━━━━━━━━━━\u001b[0m\u001b[37m\u001b[0m \u001b[1m0s\u001b[0m 4ms/step - loss: 3.7008 - mse: 3.7008 - val_loss: 3.8378 - val_mse: 3.8378\n",
      "Epoch 18/50\n",
      "\u001b[1m40/40\u001b[0m \u001b[32m━━━━━━━━━━━━━━━━━━━━\u001b[0m\u001b[37m\u001b[0m \u001b[1m0s\u001b[0m 4ms/step - loss: 3.4119 - mse: 3.4119 - val_loss: 3.0361 - val_mse: 3.0361\n",
      "Epoch 19/50\n",
      "\u001b[1m40/40\u001b[0m \u001b[32m━━━━━━━━━━━━━━━━━━━━\u001b[0m\u001b[37m\u001b[0m \u001b[1m0s\u001b[0m 5ms/step - loss: 3.0855 - mse: 3.0855 - val_loss: 2.6314 - val_mse: 2.6314\n",
      "Epoch 20/50\n",
      "\u001b[1m40/40\u001b[0m \u001b[32m━━━━━━━━━━━━━━━━━━━━\u001b[0m\u001b[37m\u001b[0m \u001b[1m0s\u001b[0m 3ms/step - loss: 2.8041 - mse: 2.8041 - val_loss: 2.5551 - val_mse: 2.5551\n",
      "Epoch 21/50\n",
      "\u001b[1m40/40\u001b[0m \u001b[32m━━━━━━━━━━━━━━━━━━━━\u001b[0m\u001b[37m\u001b[0m \u001b[1m0s\u001b[0m 3ms/step - loss: 2.8736 - mse: 2.8736 - val_loss: 2.4526 - val_mse: 2.4526\n",
      "Epoch 22/50\n",
      "\u001b[1m40/40\u001b[0m \u001b[32m━━━━━━━━━━━━━━━━━━━━\u001b[0m\u001b[37m\u001b[0m \u001b[1m0s\u001b[0m 3ms/step - loss: 3.0575 - mse: 3.0575 - val_loss: 2.8421 - val_mse: 2.8421\n",
      "Epoch 23/50\n",
      "\u001b[1m40/40\u001b[0m \u001b[32m━━━━━━━━━━━━━━━━━━━━\u001b[0m\u001b[37m\u001b[0m \u001b[1m0s\u001b[0m 4ms/step - loss: 2.8154 - mse: 2.8154 - val_loss: 2.6124 - val_mse: 2.6124\n",
      "Epoch 24/50\n",
      "\u001b[1m40/40\u001b[0m \u001b[32m━━━━━━━━━━━━━━━━━━━━\u001b[0m\u001b[37m\u001b[0m \u001b[1m0s\u001b[0m 5ms/step - loss: 2.6765 - mse: 2.6765 - val_loss: 2.8303 - val_mse: 2.8303\n",
      "Epoch 25/50\n",
      "\u001b[1m40/40\u001b[0m \u001b[32m━━━━━━━━━━━━━━━━━━━━\u001b[0m\u001b[37m\u001b[0m \u001b[1m0s\u001b[0m 4ms/step - loss: 2.8206 - mse: 2.8206 - val_loss: 2.4302 - val_mse: 2.4302\n",
      "Epoch 26/50\n",
      "\u001b[1m40/40\u001b[0m \u001b[32m━━━━━━━━━━━━━━━━━━━━\u001b[0m\u001b[37m\u001b[0m \u001b[1m0s\u001b[0m 4ms/step - loss: 2.2980 - mse: 2.2980 - val_loss: 2.0162 - val_mse: 2.0162\n",
      "Epoch 27/50\n",
      "\u001b[1m40/40\u001b[0m \u001b[32m━━━━━━━━━━━━━━━━━━━━\u001b[0m\u001b[37m\u001b[0m \u001b[1m0s\u001b[0m 4ms/step - loss: 2.2768 - mse: 2.2768 - val_loss: 2.4134 - val_mse: 2.4134\n",
      "Epoch 28/50\n",
      "\u001b[1m40/40\u001b[0m \u001b[32m━━━━━━━━━━━━━━━━━━━━\u001b[0m\u001b[37m\u001b[0m \u001b[1m0s\u001b[0m 4ms/step - loss: 2.2967 - mse: 2.2967 - val_loss: 1.7679 - val_mse: 1.7679\n",
      "Epoch 29/50\n",
      "\u001b[1m40/40\u001b[0m \u001b[32m━━━━━━━━━━━━━━━━━━━━\u001b[0m\u001b[37m\u001b[0m \u001b[1m0s\u001b[0m 5ms/step - loss: 2.0046 - mse: 2.0046 - val_loss: 1.7647 - val_mse: 1.7647\n",
      "Epoch 30/50\n",
      "\u001b[1m40/40\u001b[0m \u001b[32m━━━━━━━━━━━━━━━━━━━━\u001b[0m\u001b[37m\u001b[0m \u001b[1m0s\u001b[0m 3ms/step - loss: 2.0290 - mse: 2.0290 - val_loss: 1.7218 - val_mse: 1.7218\n",
      "Epoch 31/50\n",
      "\u001b[1m40/40\u001b[0m \u001b[32m━━━━━━━━━━━━━━━━━━━━\u001b[0m\u001b[37m\u001b[0m \u001b[1m0s\u001b[0m 5ms/step - loss: 1.8594 - mse: 1.8594 - val_loss: 1.5016 - val_mse: 1.5016\n",
      "Epoch 32/50\n",
      "\u001b[1m40/40\u001b[0m \u001b[32m━━━━━━━━━━━━━━━━━━━━\u001b[0m\u001b[37m\u001b[0m \u001b[1m0s\u001b[0m 5ms/step - loss: 1.7893 - mse: 1.7893 - val_loss: 1.5287 - val_mse: 1.5287\n",
      "Epoch 33/50\n",
      "\u001b[1m40/40\u001b[0m \u001b[32m━━━━━━━━━━━━━━━━━━━━\u001b[0m\u001b[37m\u001b[0m \u001b[1m0s\u001b[0m 5ms/step - loss: 1.7382 - mse: 1.7382 - val_loss: 1.6225 - val_mse: 1.6225\n",
      "Epoch 34/50\n",
      "\u001b[1m40/40\u001b[0m \u001b[32m━━━━━━━━━━━━━━━━━━━━\u001b[0m\u001b[37m\u001b[0m \u001b[1m0s\u001b[0m 5ms/step - loss: 1.6267 - mse: 1.6267 - val_loss: 1.5381 - val_mse: 1.5381\n",
      "Epoch 35/50\n",
      "\u001b[1m40/40\u001b[0m \u001b[32m━━━━━━━━━━━━━━━━━━━━\u001b[0m\u001b[37m\u001b[0m \u001b[1m0s\u001b[0m 5ms/step - loss: 1.5946 - mse: 1.5946 - val_loss: 1.3602 - val_mse: 1.3602\n",
      "Epoch 36/50\n",
      "\u001b[1m40/40\u001b[0m \u001b[32m━━━━━━━━━━━━━━━━━━━━\u001b[0m\u001b[37m\u001b[0m \u001b[1m0s\u001b[0m 5ms/step - loss: 1.5837 - mse: 1.5837 - val_loss: 1.5199 - val_mse: 1.5199\n",
      "Epoch 37/50\n",
      "\u001b[1m40/40\u001b[0m \u001b[32m━━━━━━━━━━━━━━━━━━━━\u001b[0m\u001b[37m\u001b[0m \u001b[1m0s\u001b[0m 5ms/step - loss: 1.9046 - mse: 1.9046 - val_loss: 1.6418 - val_mse: 1.6418\n",
      "Epoch 38/50\n",
      "\u001b[1m40/40\u001b[0m \u001b[32m━━━━━━━━━━━━━━━━━━━━\u001b[0m\u001b[37m\u001b[0m \u001b[1m0s\u001b[0m 4ms/step - loss: 5.8493 - mse: 5.8493 - val_loss: 2.2571 - val_mse: 2.2571\n",
      "Epoch 39/50\n",
      "\u001b[1m40/40\u001b[0m \u001b[32m━━━━━━━━━━━━━━━━━━━━\u001b[0m\u001b[37m\u001b[0m \u001b[1m0s\u001b[0m 4ms/step - loss: 18.7436 - mse: 18.7436 - val_loss: 1.4584 - val_mse: 1.4584\n",
      "Epoch 40/50\n",
      "\u001b[1m40/40\u001b[0m \u001b[32m━━━━━━━━━━━━━━━━━━━━\u001b[0m\u001b[37m\u001b[0m \u001b[1m0s\u001b[0m 5ms/step - loss: 1.9988 - mse: 1.9988 - val_loss: 1.5595 - val_mse: 1.5595\n",
      "Epoch 41/50\n",
      "\u001b[1m40/40\u001b[0m \u001b[32m━━━━━━━━━━━━━━━━━━━━\u001b[0m\u001b[37m\u001b[0m \u001b[1m0s\u001b[0m 5ms/step - loss: 1.9247 - mse: 1.9247 - val_loss: 1.4346 - val_mse: 1.4346\n",
      "Epoch 42/50\n",
      "\u001b[1m40/40\u001b[0m \u001b[32m━━━━━━━━━━━━━━━━━━━━\u001b[0m\u001b[37m\u001b[0m \u001b[1m0s\u001b[0m 7ms/step - loss: 1.2901 - mse: 1.2901 - val_loss: 1.1382 - val_mse: 1.1382\n",
      "Epoch 43/50\n",
      "\u001b[1m40/40\u001b[0m \u001b[32m━━━━━━━━━━━━━━━━━━━━\u001b[0m\u001b[37m\u001b[0m \u001b[1m0s\u001b[0m 5ms/step - loss: 1.5274 - mse: 1.5274 - val_loss: 1.0884 - val_mse: 1.0884\n",
      "Epoch 44/50\n",
      "\u001b[1m40/40\u001b[0m \u001b[32m━━━━━━━━━━━━━━━━━━━━\u001b[0m\u001b[37m\u001b[0m \u001b[1m0s\u001b[0m 5ms/step - loss: 1.4699 - mse: 1.4699 - val_loss: 1.1168 - val_mse: 1.1168\n",
      "Epoch 45/50\n",
      "\u001b[1m40/40\u001b[0m \u001b[32m━━━━━━━━━━━━━━━━━━━━\u001b[0m\u001b[37m\u001b[0m \u001b[1m0s\u001b[0m 5ms/step - loss: 1.1862 - mse: 1.1862 - val_loss: 1.1224 - val_mse: 1.1224\n",
      "Epoch 46/50\n",
      "\u001b[1m40/40\u001b[0m \u001b[32m━━━━━━━━━━━━━━━━━━━━\u001b[0m\u001b[37m\u001b[0m \u001b[1m0s\u001b[0m 5ms/step - loss: 1.5611 - mse: 1.5611 - val_loss: 1.0784 - val_mse: 1.0784\n",
      "Epoch 47/50\n",
      "\u001b[1m40/40\u001b[0m \u001b[32m━━━━━━━━━━━━━━━━━━━━\u001b[0m\u001b[37m\u001b[0m \u001b[1m0s\u001b[0m 6ms/step - loss: 1.3726 - mse: 1.3726 - val_loss: 2.3837 - val_mse: 2.3837\n",
      "Epoch 48/50\n",
      "\u001b[1m40/40\u001b[0m \u001b[32m━━━━━━━━━━━━━━━━━━━━\u001b[0m\u001b[37m\u001b[0m \u001b[1m0s\u001b[0m 3ms/step - loss: 1.8528 - mse: 1.8528 - val_loss: 1.3950 - val_mse: 1.3950\n",
      "Epoch 49/50\n",
      "\u001b[1m40/40\u001b[0m \u001b[32m━━━━━━━━━━━━━━━━━━━━\u001b[0m\u001b[37m\u001b[0m \u001b[1m0s\u001b[0m 3ms/step - loss: 1.2166 - mse: 1.2166 - val_loss: 1.2146 - val_mse: 1.2146\n",
      "Epoch 50/50\n",
      "\u001b[1m40/40\u001b[0m \u001b[32m━━━━━━━━━━━━━━━━━━━━\u001b[0m\u001b[37m\u001b[0m \u001b[1m0s\u001b[0m 4ms/step - loss: 1.1801 - mse: 1.1801 - val_loss: 1.1364 - val_mse: 1.1364\n",
      "\u001b[1m13/13\u001b[0m \u001b[32m━━━━━━━━━━━━━━━━━━━━\u001b[0m\u001b[37m\u001b[0m \u001b[1m0s\u001b[0m 7ms/step\n",
      "Mean Squared Error (MSE): 1.2292043821830712\n"
     ]
    }
   ],
   "source": [
    "import tensorflow\n",
    "from tensorflow.keras.models import Sequential\n",
    "from tensorflow.keras.layers import Dense\n",
    "#Build the deep learning model\n",
    "model = Sequential()\n",
    "model.add(Dense(64, activation='relu', input_dim=X_train.shape[1]))  # Hidden layer\n",
    "model.add(Dense(32, activation='relu'))  # Hidden layer\n",
    "model.add(Dense(1, activation='linear'))  # Output layer with linear activation\n",
    "\n",
    "# Compile the model\n",
    "model.compile(optimizer='adam', loss='mse', metrics=['mse'])\n",
    "\n",
    "# Train the model\n",
    "model.fit(X_train, y_train, epochs=50, batch_size=32, validation_split=0.2, verbose=1)\n",
    "\n",
    "# Step 5: Evaluate the model\n",
    "y_pred = model.predict(X_test)\n",
    "mse = mean_squared_error(y_test, y_pred)\n",
    "\n",
    "print(f\"Mean Squared Error (MSE): {mse}\")"
   ]
  },
  {
   "cell_type": "markdown",
   "metadata": {
    "id": "RcEWfFvz13IC"
   },
   "source": [
    "    27- Write a conclusion about building a good model for predicting the number of likes using Instagram Users Datetime Posts. (10 points)\n",
    "\n",
    "       your conclusion should include:\n",
    "        * why a specific model performs better than other models and why a regression algorithm works well with this dataset.\n",
    "        * Did Robust regression algorithms outperformance the linear regression baseline or linear regression after applying Shrinkage Methods? Why?\n",
    "\n",
    "    Write a summary of what you understand about linear regression and cross-validation."
   ]
  },
  {
   "cell_type": "markdown",
   "metadata": {
    "id": "RcEWfFvz13IC"
   },
   "source": [
    "-- In my analysis of predicting Instagram likes, I tested several models, including Linear Regression, Ridge, Lasso, Huber, and RANSAC. Among these, Ridge Regression emerged as the best performer.\n",
    "\n",
    "-- Robustness: Huber Regression excels at managing outliers or extreme data points. It is not easily misled by unusual posts and adjusts well to varying data patterns. In a dataset like Instagram's, which may contain outlier posts, Huber effectively downplays their influence, resulting in more accurate predictions.\n",
    "\n",
    "-- Flexibility: Huber Regression also demonstrates flexibility by adapting to different relationships between features, such as post type or number of tags, and likes. Its ability to model both linear and non-linear relationships makes it versatile for diverse data patterns.\n",
    "\n",
    "-- While Linear Regression, including Ridge and Lasso, is generally reliable, it did not perform as well in this case. These models assume a straightforward linear relationship between features and likes and can be overly sensitive to outliers, making them less effective.\n",
    "\n",
    "-- I view robust regression models, like Huber, as all-terrain vehicles that can navigate bumpy data (outliers) and complex relationships more effectively than linear models, which are akin to cars that can only handle smooth roads.\n",
    "\n",
    "-- Linear regression is a straightforward method for identifying relationships between variables by fitting a straight line through a scatter of data points, enabling predictions of one variable based on another.\n",
    "\n",
    "-- Cross-validation serves as a practice run before the final performance. It allows me to assess how well my model predicts likes by dividing the data into smaller groups and testing its accuracy under various conditions.\n",
    "\n",
    "-- In summary, Ridge Regression outperformed other models in predicting Instagram likes due to its robustness, adaptability, and resistance to unusual posts skewing the results. It proves to be an ideal tool for predicting success on Instagram."
   ]
  },
  {
   "cell_type": "markdown",
   "metadata": {
    "id": "zM8jY2rp13ID"
   },
   "source": [
    "---\n",
    "## All set\n",
    "\n",
    "Please make sure you execute each cell before you submit your file; this is important becuse if your code didn't work on our machine for an unknown reason, it would be better to see the result rather than losing some points or wasting time to contact you to fix this issue.\n",
    "\n",
    "What to submit:\n",
    "\n",
    "* Your Jupyter Notebook file.\n",
    "* Name your file as firstname_lastname_pj_1 .\n",
    "---"
   ]
  },
  {
   "cell_type": "code",
   "execution_count": null,
   "metadata": {},
   "outputs": [],
   "source": []
  }
 ],
 "metadata": {
  "colab": {
   "provenance": []
  },
  "interpreter": {
   "hash": "9be90a182e443121e767cfcadea61fa0eeced8ec62a9bd8ae9861f6c1d839655"
  },
  "kernelspec": {
   "display_name": "Python 3 (ipykernel)",
   "language": "python",
   "name": "python3"
  },
  "language_info": {
   "codemirror_mode": {
    "name": "ipython",
    "version": 3
   },
   "file_extension": ".py",
   "mimetype": "text/x-python",
   "name": "python",
   "nbconvert_exporter": "python",
   "pygments_lexer": "ipython3",
   "version": "3.12.4"
  }
 },
 "nbformat": 4,
 "nbformat_minor": 4
}
