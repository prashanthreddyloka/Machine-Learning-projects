{
 "cells": [
  {
   "cell_type": "markdown",
   "metadata": {
    "id": "uns3WhxF13Hx"
   },
   "source": [
    "### Final Test: (15 points)"
   ]
  },
  {
   "cell_type": "code",
   "execution_count": null,
   "metadata": {
    "id": "1_OlUVXP0vmI"
   },
   "outputs": [],
   "source": []
  },
  {
   "cell_type": "markdown",
   "metadata": {
    "id": "QY2xCOTe13Hz"
   },
   "source": [
    "### Predicting the number of likes on Instagram using Regression Techniques\n",
    "\n",
    "One billion people use Instagram every month, which makes it one of the most popular social networks worldwide.\n",
    "Currently, there is an enormous scope market with the potential to be optimized to increase Instagram posts popularity and engagement.\n",
    "\n",
    "Ref: https://upcommons.upc.edu/bitstream/handle/2117/339937/152579.pdf?sequence=1&isAllowed=y\n"
   ]
  },
  {
   "cell_type": "markdown",
   "metadata": {
    "id": "UAOJcA4-13Hz"
   },
   "source": [
    "---\n",
    "### The Instagram Users Datetime Posts Dataset   \n",
    "We explore the Instagram Users Datetime Posts dataset, which contains info of 1089 users' posts.\n",
    "\n",
    "The dataset can estimate the number of likes/likes scores given a post based on different features such as the time and date of the post, type of the post, number of tags, numbers of comments, or how many days the post has been posted.\n",
    "\n",
    "--\n",
    "### Objective:\n",
    "#### Estimate the number of likes based on number of tags, numbers of comments, or days passed from post.\n",
    "---\n",
    "\n",
    "\n",
    "### Dataset:\n",
    "you can find the dataset on Canvas under Dataset section: Instagram_Data"
   ]
  },
  {
   "cell_type": "markdown",
   "metadata": {
    "id": "QGRL6Z8j13H0"
   },
   "source": [
    "### Steps to do:"
   ]
  },
  {
   "cell_type": "markdown",
   "metadata": {
    "id": "Kyt7LP1113H1"
   },
   "source": [
    "    1- import libraries and initialize the plotting environment using matplotlib and/or seaborn  (1 point)"
   ]
  },
  {
   "cell_type": "code",
   "execution_count": null,
   "metadata": {
    "id": "T3dOOhdO13H1"
   },
   "outputs": [],
   "source": [
    "# write you code here\n"
   ]
  },
  {
   "cell_type": "markdown",
   "metadata": {
    "id": "_ery0xiv13H2"
   },
   "source": [
    "    2- Loading data into Panda datafram, name it insta_df (1 point)\n",
    "        * load only the first 2000 rows using the \"nrows\" parameter\n",
    "\n",
    "#### Note: you should read just the 2000 examples of the data.\n",
    "\n",
    "Otherwise, your execution time for each command will be long since the data has 178922 samples.\n",
    "\n",
    "    3- reset index (1 point)"
   ]
  },
  {
   "cell_type": "code",
   "execution_count": null,
   "metadata": {
    "id": "Y2Fxb6xZ13H3"
   },
   "outputs": [],
   "source": [
    "# write you code here\n",
    "\n",
    "\n",
    "\n",
    "##\n",
    "insta_df"
   ]
  },
  {
   "cell_type": "markdown",
   "metadata": {
    "id": "HdIufVjF13H3"
   },
   "source": [
    "    4- Show the 10 first rows of the data, its shape, and the coulmens names: (3 points)"
   ]
  },
  {
   "cell_type": "code",
   "execution_count": null,
   "metadata": {
    "id": "rJd4Edpe13H4"
   },
   "outputs": [],
   "source": [
    "# 10 first rows of the data\n"
   ]
  },
  {
   "cell_type": "code",
   "execution_count": null,
   "metadata": {
    "id": "Bm0VCUzH13H5"
   },
   "outputs": [],
   "source": [
    "# insta_df shape\n"
   ]
  },
  {
   "cell_type": "code",
   "execution_count": null,
   "metadata": {
    "id": "fwRIMmAg13H5"
   },
   "outputs": [],
   "source": [
    "# insta_df column names\n"
   ]
  },
  {
   "cell_type": "markdown",
   "metadata": {
    "id": "MOSwAA2Z13H5"
   },
   "source": [
    "    5- Check the number of samples in the dataset (1 point)"
   ]
  },
  {
   "cell_type": "code",
   "execution_count": null,
   "metadata": {
    "id": "DQSRx-bh13H6"
   },
   "outputs": [],
   "source": [
    "# insta_df row numbers:\n"
   ]
  },
  {
   "cell_type": "markdown",
   "metadata": {
    "id": "vf3U6HRD13H6"
   },
   "source": [
    "    6- Check the data type of each column ( 1 point)"
   ]
  },
  {
   "cell_type": "code",
   "execution_count": null,
   "metadata": {
    "id": "KJmc6r-113H6"
   },
   "outputs": [],
   "source": [
    "# Print datatypes\n"
   ]
  },
  {
   "cell_type": "markdown",
   "metadata": {
    "id": "-jziyg2J13H7"
   },
   "source": [
    "    7- Remove columns from the dataframe:\n",
    "\n",
    "        a. Remove user id from the insta_df as there is no useful information from this column. (1 point)\n",
    "\n",
    "        b. Remove the Likes Score since it is calculated from the number of likes. (1 point)\n",
    "\n",
    "        c. Remove the date and time columns from the data frame since our goal is not to consider the posted date and time related to the number of likes (2 points)"
   ]
  },
  {
   "cell_type": "code",
   "execution_count": null,
   "metadata": {
    "id": "p_PO2lT_13H7"
   },
   "outputs": [],
   "source": [
    "# Remove User uuid\n",
    "\n",
    "\n",
    "# Remove User Likes Score\n",
    "\n",
    "\n",
    "# Remove all columns between column index 1 to 3\n",
    "\n",
    "\n",
    "# show the insta_df after you remove the required columns\n",
    "insta_df"
   ]
  },
  {
   "cell_type": "markdown",
   "metadata": {
    "id": "zr-WQ_8b13H7"
   },
   "source": [
    "    8- Check how many unique values are on the \"Type\" column. ( 1 point)\n",
    "        * you can use the unique() function if you wish"
   ]
  },
  {
   "cell_type": "code",
   "execution_count": null,
   "metadata": {
    "id": "p_IR9pYW13H7"
   },
   "outputs": [],
   "source": [
    "# write you code here\n"
   ]
  },
  {
   "cell_type": "markdown",
   "metadata": {
    "id": "b_tbkz3M13H8"
   },
   "source": [
    "    9- Buid a label encoder or (function + apply method in pandas) to change the \"Type\" coulmn values to numeric values (4 point)\n",
    "    a- IMAGE = 1, IMAGES = 2 and Vide0 = 3"
   ]
  },
  {
   "cell_type": "code",
   "execution_count": null,
   "metadata": {
    "id": "HiS5AybO13H8"
   },
   "outputs": [],
   "source": [
    "# Encode \"Type\"\n",
    "\n",
    "\n",
    "##\n",
    "insta_df"
   ]
  },
  {
   "cell_type": "markdown",
   "metadata": {
    "id": "y610V4t-13H8"
   },
   "source": [
    "    10- Check how many NaN values are in each column:\n",
    "\n",
    "        a. How many NaNs as total ( 1 point)\n",
    "\n",
    "        b. How many NaNs as a percentage of overall data ( 1 point)"
   ]
  },
  {
   "cell_type": "code",
   "execution_count": null,
   "metadata": {
    "id": "eoIl5u3z13H8"
   },
   "outputs": [],
   "source": [
    "# a. How many NaNs as total\n"
   ]
  },
  {
   "cell_type": "code",
   "execution_count": null,
   "metadata": {
    "id": "2mZ86GSW13H9"
   },
   "outputs": [],
   "source": [
    "# b. How many NaNs as a percentage of overall data\n"
   ]
  },
  {
   "cell_type": "markdown",
   "metadata": {
    "id": "jteaLpCY13H9"
   },
   "source": [
    "    11- Divide the data into features (X), and target (y) --> your target is Likes  (2 points)"
   ]
  },
  {
   "cell_type": "code",
   "execution_count": null,
   "metadata": {
    "id": "J3f1Vs8f13H9"
   },
   "outputs": [],
   "source": [
    "# your featuers X:\n",
    "\n",
    "##\n",
    "X"
   ]
  },
  {
   "cell_type": "code",
   "execution_count": null,
   "metadata": {
    "id": "o0OnXQPR13H9"
   },
   "outputs": [],
   "source": [
    "# your target y:\n",
    "\n",
    "\n",
    "\n",
    "##\n",
    "y"
   ]
  },
  {
   "cell_type": "markdown",
   "metadata": {
    "id": "6zbuc5FU13H9"
   },
   "source": [
    "    12- Checking for Multicollinearity for features (X) using a correlation matrix. (1 points)"
   ]
  },
  {
   "cell_type": "code",
   "execution_count": null,
   "metadata": {
    "id": "AuIqmwnw13H-"
   },
   "outputs": [],
   "source": [
    "# write your code here:"
   ]
  },
  {
   "cell_type": "markdown",
   "metadata": {
    "id": "1rUf45QJ13H-"
   },
   "source": [
    "    13- From the above pairplot, what did you observe? ( 1 points)\n",
    "\n",
    "##### Write your answer here:\n",
    "\n",
    "--\n",
    "\n",
    "\n",
    "--"
   ]
  },
  {
   "cell_type": "markdown",
   "metadata": {
    "id": "OexfiW2g13H-"
   },
   "source": [
    "    14- Use a scatter plot to check each feature's relationship with the target variable, Likes. (1 points)"
   ]
  },
  {
   "cell_type": "code",
   "execution_count": null,
   "metadata": {
    "id": "4ML8vFoo13H-"
   },
   "outputs": [],
   "source": [
    "# write your code here"
   ]
  },
  {
   "cell_type": "markdown",
   "metadata": {
    "id": "gv51MgdM13H-"
   },
   "source": [
    "    15- From the above pairplot, what did you observe? ( 1 points)\n",
    "\n",
    "\n",
    "##### Write your answer here:\n",
    "\n",
    "--\n",
    "\n",
    "\n",
    "--"
   ]
  },
  {
   "cell_type": "markdown",
   "metadata": {
    "id": "sEqOlvu_13H-"
   },
   "source": [
    "    16- Display the target distribution using histogram (1 points)"
   ]
  },
  {
   "cell_type": "code",
   "execution_count": null,
   "metadata": {
    "id": "YTfPCGV713H-"
   },
   "outputs": [],
   "source": [
    "# write your code here:"
   ]
  },
  {
   "cell_type": "markdown",
   "metadata": {
    "id": "LsU1sL0r13H_"
   },
   "source": [
    "    17- From the above histogram, what did you observe about the target distribution? ( 1 point)\n",
    "    \n",
    "\n",
    "##### Write your answer here:\n",
    "\n",
    "--\n",
    "\n",
    "\n",
    "--"
   ]
  },
  {
   "cell_type": "markdown",
   "metadata": {
    "id": "SwQC-LFV13H_"
   },
   "source": [
    "    18-Transfer the target y into log to have the normal distributions: (1 point)"
   ]
  },
  {
   "cell_type": "code",
   "execution_count": null,
   "metadata": {
    "id": "37uNhh_a13H_"
   },
   "outputs": [],
   "source": [
    "#transfer the target y into log\n"
   ]
  },
  {
   "cell_type": "markdown",
   "metadata": {
    "id": "Uzzc9lR013H_"
   },
   "source": [
    "### Preparing the machine learning pipeline\n"
   ]
  },
  {
   "cell_type": "markdown",
   "metadata": {
    "id": "X8fzxpWL13H_"
   },
   "source": [
    "    19- Splitting the data into training 80% and testing sets 20%. (1 point)\n",
    "        * print the sizes of our training and test set to verify if the splitting has occurred properly. (1 point)"
   ]
  },
  {
   "cell_type": "code",
   "execution_count": null,
   "metadata": {
    "id": "Bc1YDei813H_"
   },
   "outputs": [],
   "source": [
    "# Splitting the data:\n",
    "\n",
    "# print the sizes of our training and test set:\n"
   ]
  },
  {
   "cell_type": "markdown",
   "metadata": {
    "id": "FZe1eoav13IA"
   },
   "source": [
    "    20- Use Pipeline class with the cross-validation to fit the scaling on only the training dataset and evaluate the linear regression model, (Use k=10 and MSE as your metric)( 2 point)\n",
    "\n",
    "        * 'neg_mean_squared_error' returns the negated value of the MSE; make sure to take the absolute to get the positive one (1 point)\n",
    "        * print the average MSE (1 point)"
   ]
  },
  {
   "cell_type": "code",
   "execution_count": null,
   "metadata": {
    "id": "ubV5evkp13IA"
   },
   "outputs": [],
   "source": [
    "# writer your code here:"
   ]
  },
  {
   "cell_type": "markdown",
   "metadata": {
    "id": "b73aw1qi13IA"
   },
   "source": [
    "    21- Hyperparameters tuning using GridSearchCV (Use k=10 and MSE as your metric):\n",
    "\n",
    "        A. Ridge regression:\n",
    "            * Find out the best value of α’s (-3, -2, 1, 2, 3) for Ridge regression (1 point)\n",
    "            * print the best score and the best alpha value (1 point)"
   ]
  },
  {
   "cell_type": "code",
   "execution_count": null,
   "metadata": {
    "id": "1XaXrcE113IA"
   },
   "outputs": [],
   "source": [
    "# write your code here:\n"
   ]
  },
  {
   "cell_type": "markdown",
   "metadata": {
    "id": "1rRFGs3a13IA"
   },
   "source": [
    "        B. Lasso:\n",
    "            * Find out the best value of α’s (-3, -2, 1, 2, 3) for Lasso method. (1 point)\n",
    "            * print the best score and the best alpha value (1 point)"
   ]
  },
  {
   "cell_type": "code",
   "execution_count": null,
   "metadata": {
    "id": "aofLi-aq13IB"
   },
   "outputs": [],
   "source": [
    "# write your code here:\n"
   ]
  },
  {
   "cell_type": "markdown",
   "metadata": {
    "id": "ga1vBFZU13IB"
   },
   "source": [
    "#### Robust regression"
   ]
  },
  {
   "cell_type": "markdown",
   "metadata": {
    "id": "F_e8kUGW13IB"
   },
   "source": [
    "      22- Use Pipeline class with the cross-validation with k= 10 to fit the scaling on only the training dataset, and evaluate the models using 'neg_mean_squared_error':\n",
    "    \n",
    "            A.  The Huber regression model module ( 1 points)\n",
    "                * print the absolute average MSE (1 point)"
   ]
  },
  {
   "cell_type": "code",
   "execution_count": null,
   "metadata": {
    "id": "NAXOVc_Q13IB"
   },
   "outputs": [],
   "source": [
    "# write your code here:\n"
   ]
  },
  {
   "cell_type": "markdown",
   "metadata": {
    "id": "By5bWePS13IB"
   },
   "source": [
    "        B.  The RANSAC regression model modle ( 1 point)\n",
    "            * print the absolute avarge MSE (1 point)"
   ]
  },
  {
   "cell_type": "code",
   "execution_count": null,
   "metadata": {
    "id": "VWyKds4g13IB"
   },
   "outputs": [],
   "source": [
    "# write your code here:\n"
   ]
  },
  {
   "cell_type": "markdown",
   "metadata": {
    "id": "UpBaoPEl13IB"
   },
   "source": [
    "    23- From the above models you validated using cross-validation, which model performed very well on average? (1 point)         \n",
    "\n",
    "##### Write your answer here:\n",
    "\n",
    "--\n",
    "\n",
    "\n",
    "--"
   ]
  },
  {
   "cell_type": "markdown",
   "metadata": {
    "id": "LsyZOP3R13IC"
   },
   "source": [
    "    24- Use the Best model to build/fit your final model using your train-data.(5 points)"
   ]
  },
  {
   "cell_type": "code",
   "execution_count": null,
   "metadata": {
    "id": "ayCJZr-n13IC"
   },
   "outputs": [],
   "source": [
    "# write your code here:\n"
   ]
  },
  {
   "cell_type": "markdown",
   "metadata": {
    "id": "LcOs3djI13IC"
   },
   "source": [
    "    25- Predict the number of likes for test data and compute the MSE (5 points)"
   ]
  },
  {
   "cell_type": "code",
   "execution_count": null,
   "metadata": {
    "id": "xxs-tNOr13IC"
   },
   "outputs": [],
   "source": [
    "# write your code here:\n"
   ]
  },
  {
   "cell_type": "markdown",
   "metadata": {},
   "source": [
    "#### 26- Use deep learning model (dense or fully connecte layer ) (1 point)\n",
    "### You need to recall that this model is regression you have to choose linear activation function for the output later and it is only one neuron "
   ]
  },
  {
   "cell_type": "markdown",
   "metadata": {
    "id": "bFQ5dyIR13IC"
   },
   "source": [
    "    27- Write a conclusion about building a good model for predicting the number of likes using Instagram Users Datetime Posts. (10 points)\n",
    "\n",
    "       your conclusion should include:\n",
    "        * why a specific model performs better than other models and why a regression algorithm works well with this dataset.\n",
    "        * Did Robust regression algorithms outperformance the linear regression baseline or linear regression after applying Shrinkage Methods? Why?\n",
    "\n",
    "    Write a summary of what you understand about linear regression and cross-validation."
   ]
  },
  {
   "cell_type": "markdown",
   "metadata": {
    "id": "RcEWfFvz13IC"
   },
   "source": [
    "--\n",
    "\n",
    "--"
   ]
  },
  {
   "cell_type": "markdown",
   "metadata": {
    "id": "zM8jY2rp13ID"
   },
   "source": [
    "---\n",
    "## All set\n",
    "\n",
    "Please make sure you execute each cell before you submit your file; this is important becuse if your code didn't work on our machine for an unknown reason, it would be better to see the result rather than losing some points or wasting time to contact you to fix this issue.\n",
    "\n",
    "What to submit:\n",
    "\n",
    "* Your Jupyter Notebook file.\n",
    "* Name your file as firstname_lastname_pj_1 .\n",
    "---"
   ]
  }
 ],
 "metadata": {
  "colab": {
   "provenance": []
  },
  "interpreter": {
   "hash": "9be90a182e443121e767cfcadea61fa0eeced8ec62a9bd8ae9861f6c1d839655"
  },
  "kernelspec": {
   "display_name": "Python 3 (ipykernel)",
   "language": "python",
   "name": "python3"
  },
  "language_info": {
   "codemirror_mode": {
    "name": "ipython",
    "version": 3
   },
   "file_extension": ".py",
   "mimetype": "text/x-python",
   "name": "python",
   "nbconvert_exporter": "python",
   "pygments_lexer": "ipython3",
   "version": "3.9.12"
  }
 },
 "nbformat": 4,
 "nbformat_minor": 4
}
